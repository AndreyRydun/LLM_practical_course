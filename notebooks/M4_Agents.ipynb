{
 "cells": [
  {
   "cell_type": "markdown",
   "id": "aaf53a2d-2b29-4d83-bca8-aa6cf7d3a471",
   "metadata": {},
   "source": [
    "# <center> 🤿 Погружение в Агентов LangChain  </center>\n",
    "### <center> 😎 Создаём \"суперагента\" 🕵️‍♂️ </center>"
   ]
  },
  {
   "cell_type": "markdown",
   "id": "903691fb-7206-4e21-acad-e637c2c146b7",
   "metadata": {
    "jp-MarkdownHeadingCollapsed": true
   },
   "source": [
    "### Оглавление ноутбука\n",
    "<img src='../images/ag2.webp' align=\"right\" width=\"508\" height=\"428\" >\n",
    "<br>\n",
    "\n",
    "<p><font size=\"3\" face=\"Arial\" font-size=\"large\"><ul type=\"square\">\n",
    "    \n",
    "<li><a href=\"#p1\">🚀 Введение. 🦞 RAG  и как его готовить! </a></li>\n",
    "<li><a href=\"#p2\">📥 Document loader & Text Splitter ⚔️</a></li><ul type=\"square\">\n",
    "<li><a href=\"#p2.1\">🚛 Document loaders </a></li>\n",
    "<li><a href=\"#p2.2\">🖖 Text splitters  </a></li></ul>\n",
    "<li><a href=\"#p3\">🔤 ➡️ 🔢 Embedding models </a></li><ul type=\"square\">\n",
    "<li><a href=\"#p3.1\">Эмбеддинги от OpenAI (API) </a></li>\n",
    "<li><a href=\"#p3.2\">Эмбеддинги от HuggingFace 🤗</a></li></ul>\n",
    "<li><a href=\"#p4\">🗂 Vector Stores - место, где живут эмбеддинги </a></li>\n",
    "<li><a href=\"#p5\">🎣 Retrievers - выуди нужный документ </a></li>\n",
    "<li><a href=\"#p6\">🚰 RAG Pipeline - подключаем RAG к LLM 🔧 </a></li>\n",
    "<li><a href=\"#p6\">🧸 Выводы и заключения ✅ </a></li>\n",
    "\n",
    "\n",
    "    \n",
    "</ul></font></p>"
   ]
  },
  {
   "cell_type": "markdown",
   "id": "550b310f-8e4e-4a1f-8291-7c1d11d86031",
   "metadata": {},
   "source": [
    "## 🧑‍🎓 В этом уроке более подробно погрузимся в возможности агентов LangChain."
   ]
  },
  {
   "cell_type": "markdown",
   "id": "fd014e50-ac2f-4f95-9b93-a32d86126e41",
   "metadata": {},
   "source": [
    "# <center> 🤖 Основные типы агентов и их суперспособности 🦾 </center>"
   ]
  },
  {
   "cell_type": "markdown",
   "id": "2679b3d0-e7a6-45fc-bc0d-d82391a4cb3e",
   "metadata": {},
   "source": [
    "<div class=\"alert alert-info\">\n",
    "    \n",
    "📖 В `LangChain` представлены агенты 4-х основных типов (`Agent Types`):\n",
    "* `ReAct (Reasoning and Acting)` - агенты такого типа создаются по умолчанию, работают с инструментами, принимающими один параметр на вход.\n",
    "* `Structured chat` - могут работать с инструментами, которые принимают много параметров на вход\n",
    "* `Self Ask` - работают по алгоритму SelfAsk только с инструментами поиска\n",
    "* `XMLAgent, JSONAgent` - для работы с чат моделями в форматах XML и JSON\n",
    "* Ещё есть `OpenAIFunctions Agents`, но OpenAI перестает их поддерживать. Им на замену пришли `OpenAI Tools Agents`, которые могут вызывать сразу одну или несколько функций, тем самым сокращая время для получения ответа - работает с последними моделями от OpenAI."
   ]
  },
  {
   "cell_type": "markdown",
   "id": "024f33ed-a522-40ef-a061-e17184cf380a",
   "metadata": {},
   "source": [
    "Рассмотрим подробнее первые три типа агентов. <br>\n",
    "Каждый агент \"под капотом\" содержит тот или иной промпт завернутый в удобную обертку агента `LangChain`."
   ]
  },
  {
   "cell_type": "code",
   "execution_count": 1,
   "id": "2318c74b-038b-4d04-b3e5-0275d99c7811",
   "metadata": {
    "tags": []
   },
   "outputs": [],
   "source": [
    "# !pip install langchain langchain-openai openai langchainhub google-search-results -q"
   ]
  },
  {
   "cell_type": "code",
   "execution_count": 1,
   "id": "493f4994-0e2e-468c-adbf-916a3eceec38",
   "metadata": {
    "tags": []
   },
   "outputs": [],
   "source": [
    "import os\n",
    "from getpass import getpass"
   ]
  },
  {
   "cell_type": "code",
   "execution_count": 160,
   "id": "410165ef-1236-4cb5-8a7f-b74ed6554d84",
   "metadata": {
    "tags": []
   },
   "outputs": [],
   "source": [
    "# Для работы в колабе загрузите наш скрипт для использования ChatGPT с ключом курса, и необходимые файлы!\n",
    "# !mkdir ../data/\n",
    "# !wget -P ../data https://raw.githubusercontent.com/a-milenkin/LLM_practical_course/main/data/PEP8.txt\n",
    "# !wget -P ../data https://raw.githubusercontent.com/a-milenkin/LLM_practical_course/main/data/Data.csv\n",
    "# !wget https://raw.githubusercontent.com/a-milenkin/LLM_practical_course/main/notebooks/utils.py"
   ]
  },
  {
   "cell_type": "code",
   "execution_count": null,
   "id": "d8c8b9c2-9f11-409c-933f-7c0d623cb3d2",
   "metadata": {
    "jupyter": {
     "source_hidden": true
    },
    "tags": []
   },
   "outputs": [],
   "source": [
    "# # Если используете ключ от OpenAI, запустите эту ячейку\n",
    "# from langchain_openai import ChatOpenAI\n",
    "\n",
    "# # os.environ['OPENAI_API_KEY'] = \"Введите ваш OpenAI API ключ\"\n",
    "# os.environ['OPENAI_API_KEY'] = getpass(prompt='Введите ваш OpenAI API ключ')\n",
    "\n",
    "# # инициализируем языковую модель\n",
    "# llm = ChatOpenAI(temperature=0.0)"
   ]
  },
  {
   "cell_type": "code",
   "execution_count": 2,
   "id": "8347a770-e986-433c-94fc-582aef674d51",
   "metadata": {
    "tags": []
   },
   "outputs": [
    {
     "name": "stdin",
     "output_type": "stream",
     "text": [
      "Введите ваш ключ, полученный в боте курса: ········\n"
     ]
    }
   ],
   "source": [
    "# Если используете ключ из курса, запустите эту ячейку\n",
    "from utils import ChatOpenAI\n",
    "\n",
    "# course_api_key= \"Введите ваш ключ, полученный в боте курса\"\n",
    "course_api_key = getpass(prompt=\"Введите ваш ключ, полученный в боте курса:\")\n",
    "\n",
    "# инициализируем языковую модель\n",
    "llm = ChatOpenAI(temperature=0.0, course_api_key=course_api_key)"
   ]
  },
  {
   "cell_type": "markdown",
   "id": "8aece752-2a4e-4057-befc-fad3191e4bdd",
   "metadata": {},
   "source": [
    "# <center> ReAct Agent </center>\n",
    "\n",
    "<img src='https://react-lm.github.io/files/diagram.png' align=\"right\" width=\"608\" height=\"428\" >\n",
    "<br>\n",
    "\n",
    "Этот тип агента реализуется на основе техники `ReAct Prompting` представленной командой GoogleResearch в 2022 году в статье [ReAct: Synergizing Reasoning and Acting in Language Models](https://arxiv.org/abs/2210.03629). Собственно эта техника промптинга и легла в основу той концепции, которую мы сейчас называем автономными агентами.\n",
    "\n",
    "Эта техника объединила в себе два подхода Reasoning (техника Chain of Thouts) и Acting (Action Plan Generation - генерация плана действий)\n"
   ]
  },
  {
   "cell_type": "markdown",
   "id": "d0c94c2a-ecde-45a5-9ebe-f8d9f18422fb",
   "metadata": {},
   "source": [
    "#### Посмотрим как выглядит шаблон промпта ReAct агента в `LangChain`:\n",
    "```\n",
    "Answer the following questions as best you can. You have access to the\n",
    "following tools:\n",
    "{tools}\n",
    "Use the following format:\n",
    "Question: the input question you must answer\n",
    "Thought: you should always think about what to do\n",
    "Action: the action to take, should be one of [{tool_names}]\n",
    "Action Input: the input to the action\n",
    "Observation: the result of the action\n",
    "... (this Thought/Action/Action Input/Observation can repeat N times)\n",
    "Thought: I now know the final answer\n",
    "Final Answer: the final answer to the original input question\n",
    "Begin!\n",
    "Question: {input}\n",
    "Thought:{agent_scratchpad}\n",
    "```"
   ]
  },
  {
   "cell_type": "markdown",
   "id": "5e2b8035-71da-4fac-bb9d-2157f1809f22",
   "metadata": {},
   "source": [
    "Шаблоны промптов, используемые в агентах (и не только) хранятся в [LangChain Hub](https://smith.langchain.com/hub). Туда, примерно так же, как на гитхаб, можно загружать свои промпты и потом удобно ими пользоваться."
   ]
  },
  {
   "cell_type": "code",
   "execution_count": 3,
   "id": "2190a01a-26ba-4f0d-9846-3a2caa2703d2",
   "metadata": {},
   "outputs": [
    {
     "name": "stdout",
     "output_type": "stream",
     "text": [
      "input_variables=['agent_scratchpad', 'input', 'tool_names', 'tools'] template='Answer the following questions as best you can. You have access to the following tools:\\n\\n{tools}\\n\\nUse the following format:\\n\\nQuestion: the input question you must answer\\nThought: you should always think about what to do\\nAction: the action to take, should be one of [{tool_names}]\\nAction Input: the input to the action\\nObservation: the result of the action\\n... (this Thought/Action/Action Input/Observation can repeat N times)\\nThought: I now know the final answer\\nFinal Answer: the final answer to the original input question\\n\\nBegin!\\n\\nQuestion: {input}\\nThought:{agent_scratchpad}'\n"
     ]
    }
   ],
   "source": [
    "from langchain import hub\n",
    "\n",
    "prompt = hub.pull(\"hwchase17/react\")\n",
    "print(prompt)"
   ]
  },
  {
   "cell_type": "markdown",
   "id": "0fb03f05-140d-49d8-ba25-d33b83e91b8a",
   "metadata": {},
   "source": [
    "### Инструмент поиск Google (SerpAPI)\n",
    "\n",
    "Для использования поисковика Google по API необходимо зарегистрироваться на сайте [serpapi.com](https://serpapi.com) и получить API-ключ. На бесплатном тарифе доступно 100 запросов в месяц."
   ]
  },
  {
   "cell_type": "code",
   "execution_count": 4,
   "id": "e22537f4-d088-4094-a5b3-373a814b0a95",
   "metadata": {},
   "outputs": [],
   "source": [
    "import langchain\n",
    "from langchain.agents import AgentType, initialize_agent, load_tools, tool"
   ]
  },
  {
   "cell_type": "code",
   "execution_count": 5,
   "id": "2ab693ef-2f59-4240-a435-eb2b811aecef",
   "metadata": {},
   "outputs": [
    {
     "name": "stdin",
     "output_type": "stream",
     "text": [
      "Введите ваш ключ SerpApi: ········\n"
     ]
    }
   ],
   "source": [
    "# Добавляем полученный ключ в переменную среды\n",
    "os.environ[\"SERPAPI_API_KEY\"] = getpass(prompt=\"Введите ваш ключ SerpApi:\")"
   ]
  },
  {
   "cell_type": "code",
   "execution_count": 6,
   "id": "1381c1ec-4c64-4273-9508-44de894e2b96",
   "metadata": {},
   "outputs": [
    {
     "name": "stderr",
     "output_type": "stream",
     "text": [
      "/home/jovyan/.local/miniconda3/lib/python3.10/site-packages/langchain_core/_api/deprecation.py:117: LangChainDeprecationWarning: The function `initialize_agent` was deprecated in LangChain 0.1.0 and will be removed in 0.2.0. Use Use new agent constructor methods like create_react_agent, create_json_agent, create_structured_chat_agent, etc. instead.\n",
      "  warn_deprecated(\n"
     ]
    },
    {
     "name": "stdout",
     "output_type": "stream",
     "text": [
      "\u001b[32;1m\u001b[1;3m[chain/start]\u001b[0m \u001b[1m[1:chain:AgentExecutor] Entering Chain run with input:\n",
      "\u001b[0m{\n",
      "  \"input\": \"Какая температура в Сочи?\"\n",
      "}\n",
      "\u001b[32;1m\u001b[1;3m[chain/start]\u001b[0m \u001b[1m[1:chain:AgentExecutor > 2:chain:LLMChain] Entering Chain run with input:\n",
      "\u001b[0m{\n",
      "  \"input\": \"Какая температура в Сочи?\",\n",
      "  \"agent_scratchpad\": \"\",\n",
      "  \"stop\": [\n",
      "    \"\\nObservation:\",\n",
      "    \"\\n\\tObservation:\"\n",
      "  ]\n",
      "}\n",
      "\u001b[32;1m\u001b[1;3m[llm/start]\u001b[0m \u001b[1m[1:chain:AgentExecutor > 2:chain:LLMChain > 3:llm:ChatOpenAI] Entering LLM run with input:\n",
      "\u001b[0m{\n",
      "  \"prompts\": [\n",
      "    \"Human: Answer the following questions as best you can. You have access to the following tools:\\n\\nSearch: A search engine. Useful for when you need to answer questions about current events. Input should be a search query.\\n\\nUse the following format:\\n\\nQuestion: the input question you must answer\\nThought: you should always think about what to do\\nAction: the action to take, should be one of [Search]\\nAction Input: the input to the action\\nObservation: the result of the action\\n... (this Thought/Action/Action Input/Observation can repeat N times)\\nThought: I now know the final answer\\nFinal Answer: the final answer to the original input question\\n\\nBegin!\\n\\nQuestion: Какая температура в Сочи?\\nThought:\"\n",
      "  ]\n",
      "}\n",
      "\u001b[36;1m\u001b[1;3m[llm/end]\u001b[0m \u001b[1m[1:chain:AgentExecutor > 2:chain:LLMChain > 3:llm:ChatOpenAI] [1.29s] Exiting LLM run with output:\n",
      "\u001b[0m{\n",
      "  \"generations\": [\n",
      "    [\n",
      "      {\n",
      "        \"text\": \"I need to find the current temperature in Sochi.\\nAction: Search\\nAction Input: \\\"current temperature in Sochi\\\"\",\n",
      "        \"generation_info\": {\n",
      "          \"finish_reason\": \"stop\",\n",
      "          \"logprobs\": null\n",
      "        },\n",
      "        \"type\": \"ChatGeneration\",\n",
      "        \"message\": {\n",
      "          \"lc\": 1,\n",
      "          \"type\": \"constructor\",\n",
      "          \"id\": [\n",
      "            \"langchain\",\n",
      "            \"schema\",\n",
      "            \"messages\",\n",
      "            \"AIMessage\"\n",
      "          ],\n",
      "          \"kwargs\": {\n",
      "            \"content\": \"I need to find the current temperature in Sochi.\\nAction: Search\\nAction Input: \\\"current temperature in Sochi\\\"\",\n",
      "            \"additional_kwargs\": {},\n",
      "            \"name\": null,\n",
      "            \"id\": \"run-b04e8273-beab-4b59-a95b-12f53e7477e6-0\"\n",
      "          }\n",
      "        }\n",
      "      }\n",
      "    ]\n",
      "  ],\n",
      "  \"llm_output\": {\n",
      "    \"token_usage\": {\n",
      "      \"completion_tokens\": 25,\n",
      "      \"prompt_tokens\": 165,\n",
      "      \"total_tokens\": 190\n",
      "    },\n",
      "    \"model_name\": \"gpt-3.5-turbo\",\n",
      "    \"system_fingerprint\": \"fp_b28b39ffa8\"\n",
      "  },\n",
      "  \"run\": null\n",
      "}\n",
      "\u001b[36;1m\u001b[1;3m[chain/end]\u001b[0m \u001b[1m[1:chain:AgentExecutor > 2:chain:LLMChain] [1.29s] Exiting Chain run with output:\n",
      "\u001b[0m{\n",
      "  \"text\": \"I need to find the current temperature in Sochi.\\nAction: Search\\nAction Input: \\\"current temperature in Sochi\\\"\"\n",
      "}\n",
      "\u001b[32;1m\u001b[1;3m[tool/start]\u001b[0m \u001b[1m[1:chain:AgentExecutor > 4:tool:Search] Entering Tool run with input:\n",
      "\u001b[0m\"current temperature in Sochi\"\n",
      "\u001b[36;1m\u001b[1;3m[tool/end]\u001b[0m \u001b[1m[1:chain:AgentExecutor > 4:tool:Search] [2.11s] Exiting Tool run with output:\n",
      "\u001b[0m\"{'type': 'weather_result', 'temperature': '54', 'unit': 'Fahrenheit', 'precipitation': '56%', 'humidity': '89%', 'wind': '2 mph', 'location': 'Sochi, Russia', 'date': 'Wednesday 7:00 PM', 'weather': 'Cloudy'}\"\n",
      "\u001b[32;1m\u001b[1;3m[chain/start]\u001b[0m \u001b[1m[1:chain:AgentExecutor > 5:chain:LLMChain] Entering Chain run with input:\n",
      "\u001b[0m{\n",
      "  \"input\": \"Какая температура в Сочи?\",\n",
      "  \"agent_scratchpad\": \"I need to find the current temperature in Sochi.\\nAction: Search\\nAction Input: \\\"current temperature in Sochi\\\"\\nObservation: {'type': 'weather_result', 'temperature': '54', 'unit': 'Fahrenheit', 'precipitation': '56%', 'humidity': '89%', 'wind': '2 mph', 'location': 'Sochi, Russia', 'date': 'Wednesday 7:00 PM', 'weather': 'Cloudy'}\\nThought:\",\n",
      "  \"stop\": [\n",
      "    \"\\nObservation:\",\n",
      "    \"\\n\\tObservation:\"\n",
      "  ]\n",
      "}\n",
      "\u001b[32;1m\u001b[1;3m[llm/start]\u001b[0m \u001b[1m[1:chain:AgentExecutor > 5:chain:LLMChain > 6:llm:ChatOpenAI] Entering LLM run with input:\n",
      "\u001b[0m{\n",
      "  \"prompts\": [\n",
      "    \"Human: Answer the following questions as best you can. You have access to the following tools:\\n\\nSearch: A search engine. Useful for when you need to answer questions about current events. Input should be a search query.\\n\\nUse the following format:\\n\\nQuestion: the input question you must answer\\nThought: you should always think about what to do\\nAction: the action to take, should be one of [Search]\\nAction Input: the input to the action\\nObservation: the result of the action\\n... (this Thought/Action/Action Input/Observation can repeat N times)\\nThought: I now know the final answer\\nFinal Answer: the final answer to the original input question\\n\\nBegin!\\n\\nQuestion: Какая температура в Сочи?\\nThought:I need to find the current temperature in Sochi.\\nAction: Search\\nAction Input: \\\"current temperature in Sochi\\\"\\nObservation: {'type': 'weather_result', 'temperature': '54', 'unit': 'Fahrenheit', 'precipitation': '56%', 'humidity': '89%', 'wind': '2 mph', 'location': 'Sochi, Russia', 'date': 'Wednesday 7:00 PM', 'weather': 'Cloudy'}\\nThought:\"\n",
      "  ]\n",
      "}\n",
      "\u001b[36;1m\u001b[1;3m[llm/end]\u001b[0m \u001b[1m[1:chain:AgentExecutor > 5:chain:LLMChain > 6:llm:ChatOpenAI] [968ms] Exiting LLM run with output:\n",
      "\u001b[0m{\n",
      "  \"generations\": [\n",
      "    [\n",
      "      {\n",
      "        \"text\": \"The current temperature in Sochi is 54 degrees Fahrenheit.\\nFinal Answer: The current temperature in Sochi is 54 degrees Fahrenheit.\",\n",
      "        \"generation_info\": {\n",
      "          \"finish_reason\": \"stop\",\n",
      "          \"logprobs\": null\n",
      "        },\n",
      "        \"type\": \"ChatGeneration\",\n",
      "        \"message\": {\n",
      "          \"lc\": 1,\n",
      "          \"type\": \"constructor\",\n",
      "          \"id\": [\n",
      "            \"langchain\",\n",
      "            \"schema\",\n",
      "            \"messages\",\n",
      "            \"AIMessage\"\n",
      "          ],\n",
      "          \"kwargs\": {\n",
      "            \"content\": \"The current temperature in Sochi is 54 degrees Fahrenheit.\\nFinal Answer: The current temperature in Sochi is 54 degrees Fahrenheit.\",\n",
      "            \"additional_kwargs\": {},\n",
      "            \"name\": null,\n",
      "            \"id\": \"run-a595ff2c-3cd7-4cc1-904a-435f4e07550c-0\"\n",
      "          }\n",
      "        }\n",
      "      }\n",
      "    ]\n",
      "  ],\n",
      "  \"llm_output\": {\n",
      "    \"token_usage\": {\n",
      "      \"completion_tokens\": 27,\n",
      "      \"prompt_tokens\": 262,\n",
      "      \"total_tokens\": 289\n",
      "    },\n",
      "    \"model_name\": \"gpt-3.5-turbo\",\n",
      "    \"system_fingerprint\": \"fp_b28b39ffa8\"\n",
      "  },\n",
      "  \"run\": null\n",
      "}\n",
      "\u001b[36;1m\u001b[1;3m[chain/end]\u001b[0m \u001b[1m[1:chain:AgentExecutor > 5:chain:LLMChain] [969ms] Exiting Chain run with output:\n",
      "\u001b[0m{\n",
      "  \"text\": \"The current temperature in Sochi is 54 degrees Fahrenheit.\\nFinal Answer: The current temperature in Sochi is 54 degrees Fahrenheit.\"\n",
      "}\n",
      "\u001b[36;1m\u001b[1;3m[chain/end]\u001b[0m \u001b[1m[1:chain:AgentExecutor] [4.37s] Exiting Chain run with output:\n",
      "\u001b[0m{\n",
      "  \"output\": \"The current temperature in Sochi is 54 degrees Fahrenheit.\"\n",
      "}\n"
     ]
    },
    {
     "data": {
      "text/plain": [
       "{'input': 'Какая температура в Сочи?',\n",
       " 'output': 'The current temperature in Sochi is 54 degrees Fahrenheit.'}"
      ]
     },
     "execution_count": 6,
     "metadata": {},
     "output_type": "execute_result"
    }
   ],
   "source": [
    "# Легаси интерфейс и его недостатки\n",
    "tools = load_tools([\"serpapi\"], llm=llm)\n",
    "\n",
    "agent = initialize_agent(\n",
    "    tools,\n",
    "    llm,\n",
    "    agent=AgentType.ZERO_SHOT_REACT_DESCRIPTION,\n",
    "    handle_parsing_errors = True,\n",
    "    verbose=True)\n",
    "langchain.debug = True # включение Debug режима\n",
    "#langchain.debug = False\n",
    "\n",
    "agent.invoke('Какая температура в Сочи?')"
   ]
  },
  {
   "cell_type": "markdown",
   "id": "6c79ee15-de4b-45cb-9cec-3dc44d43d8e7",
   "metadata": {},
   "source": [
    "В легаси интерфейсе, не было явно видно какой именно промпт используется ддля агента и откуда он берется? Новый интерфейс создания агентов позволяет явно указывать промпт используемый в работе агента. <br>\n",
    "Так же это открывает простой путь к кастомизации промптов для агентов, если дефолтные промпты не подходят для нашей конкретной задачи:\n",
    "* Берем стандартный промпт, изменяем его. Или пишем собственный с нуля.\n",
    "* Загружаем на `langchainhub`\n",
    "* При необходимости подгружаем с хаба и пользуемся."
   ]
  },
  {
   "cell_type": "code",
   "execution_count": 7,
   "id": "1acbf1c0-f0b9-41bc-a99f-664f03a21421",
   "metadata": {},
   "outputs": [
    {
     "name": "stdout",
     "output_type": "stream",
     "text": [
      "\n",
      "\n",
      "\u001b[1m> Entering new AgentExecutor chain...\u001b[0m\n",
      "\u001b[32;1m\u001b[1;3mI need to find the current temperature in Sochi in Celsius.\n",
      "Action: Search\n",
      "Action Input: \"Sochi current temperature in Celsius\"\u001b[0m\u001b[36;1m\u001b[1;3m{'type': 'weather_result', 'temperature': '12', 'unit': 'Celsius', 'precipitation': '56%', 'humidity': '89%', 'wind': '3 km/h', 'location': 'Sochi, Russia', 'date': 'Wednesday 7:00 PM', 'weather': 'Cloudy'}\u001b[0m\u001b[32;1m\u001b[1;3mThe current temperature in Sochi is 12 degrees Celsius.\n",
      "Final Answer: 12 degrees Celsius\u001b[0m\n",
      "\n",
      "\u001b[1m> Finished chain.\u001b[0m\n"
     ]
    },
    {
     "data": {
      "text/plain": [
       "{'input': 'Температура в Сочи? Ответь в Цельсиях',\n",
       " 'output': '12 degrees Celsius'}"
      ]
     },
     "execution_count": 7,
     "metadata": {},
     "output_type": "execute_result"
    }
   ],
   "source": [
    "from langchain.agents import AgentExecutor, create_react_agent\n",
    "\n",
    "tools = load_tools([\"serpapi\"], llm=llm)\n",
    "langchain.debug = False\n",
    "\n",
    "# В новом интерфейсе явно задается используемый промпт\n",
    "prompt = hub.pull(\"hwchase17/react\")\n",
    "\n",
    "agent = create_react_agent(llm, tools, prompt)\n",
    "\n",
    "agent_executor = AgentExecutor(agent=agent, tools=tools, verbose=True)\n",
    "\n",
    "agent_executor.invoke({\"input\": \"Температура в Сочи? Ответь в Цельсиях\"})"
   ]
  },
  {
   "cell_type": "markdown",
   "id": "16cfd3a1-335a-46fe-8899-ad6be3f9d5db",
   "metadata": {},
   "source": [
    "### <center> 2. Structured Chat Agent </center>"
   ]
  },
  {
   "cell_type": "code",
   "execution_count": 8,
   "id": "65733e96-9f03-4b29-8f55-21cac1cbd486",
   "metadata": {},
   "outputs": [
    {
     "data": {
      "text/plain": [
       "ChatPromptTemplate(input_variables=['agent_scratchpad', 'input', 'tool_names', 'tools'], input_types={'chat_history': typing.List[typing.Union[langchain_core.messages.ai.AIMessage, langchain_core.messages.human.HumanMessage, langchain_core.messages.chat.ChatMessage, langchain_core.messages.system.SystemMessage, langchain_core.messages.function.FunctionMessage, langchain_core.messages.tool.ToolMessage]]}, messages=[SystemMessagePromptTemplate(prompt=PromptTemplate(input_variables=['tool_names', 'tools'], template='Respond to the human as helpfully and accurately as possible. You have access to the following tools:\\n\\n{tools}\\n\\nUse a json blob to specify a tool by providing an action key (tool name) and an action_input key (tool input).\\n\\nValid \"action\" values: \"Final Answer\" or {tool_names}\\n\\nProvide only ONE action per $JSON_BLOB, as shown:\\n\\n```\\n{{\\n  \"action\": $TOOL_NAME,\\n  \"action_input\": $INPUT\\n}}\\n```\\n\\nFollow this format:\\n\\nQuestion: input question to answer\\nThought: consider previous and subsequent steps\\nAction:\\n```\\n$JSON_BLOB\\n```\\nObservation: action result\\n... (repeat Thought/Action/Observation N times)\\nThought: I know what to respond\\nAction:\\n```\\n{{\\n  \"action\": \"Final Answer\",\\n  \"action_input\": \"Final response to human\"\\n}}\\n\\nBegin! Reminder to ALWAYS respond with a valid json blob of a single action. Use tools if necessary. Respond directly if appropriate. Format is Action:```$JSON_BLOB```then Observation')), MessagesPlaceholder(variable_name='chat_history', optional=True), HumanMessagePromptTemplate(prompt=PromptTemplate(input_variables=['agent_scratchpad', 'input'], template='{input}\\n\\n{agent_scratchpad}\\n (reminder to respond in a JSON blob no matter what)'))])"
      ]
     },
     "execution_count": 8,
     "metadata": {},
     "output_type": "execute_result"
    }
   ],
   "source": [
    "prompt = hub.pull(\"hwchase17/structured-chat-agent\")\n",
    "prompt"
   ]
  },
  {
   "cell_type": "markdown",
   "id": "f6e21868-b9a2-40a8-909a-394c957cf2c5",
   "metadata": {},
   "source": [
    "### 3. Self-Ask Agent\n",
    "<img src='../images/self.webp' align=\"right\" width=\"508\" height=\"428\" >"
   ]
  },
  {
   "cell_type": "markdown",
   "id": "70fd1335-43f6-4622-80f1-16e3ecc8d8f7",
   "metadata": {},
   "source": [
    "#### Посмотрим как выглядит шаблон промпта Self-Ask агента в `LangChain`:\n",
    "```\n",
    "Question: Who lived longer, Muhammad Ali or Alan Turing?\n",
    "Are follow up questions needed here: Yes.\n",
    "Follow up: How old was Muhammad Ali when he died?\n",
    "Intermediate answer: Muhammad Ali was 74 years old when he died.\n",
    "Follow up: How old was Alan Turing when he died?\n",
    "Intermediate answer: Alan Turing was 41 years old when he died.\n",
    "So the final answer is: Muhammad Ali\n",
    "\n",
    "Question: When was the founder of craigslist born?\n",
    "Are follow up questions needed here: Yes.\n",
    "Follow up: Who was the founder of craigslist?\n",
    "Intermediate answer: Craigslist was founded by Craig Newmark.\n",
    "Follow up: When was Craig Newmark born?\n",
    "Intermediate answer: Craig Newmark was born on December 6, 1952.\n",
    "So the final answer is: December 6, 1952\n",
    "\n",
    "Question: Who was the maternal grandfather of George Washington?\n",
    "Are follow up questions needed here: Yes.\n",
    "Follow up: Who was the mother of George Washington?\n",
    "Intermediate answer: The mother of George Washington was Mary Ball Washington.\n",
    "Follow up: Who was the father of Mary Ball Washington?\n",
    "Intermediate answer: The father of Mary Ball Washington was Joseph Ball.\n",
    "So the final answer is: Joseph Ball\n",
    "\n",
    "Question: Are both the directors of Jaws and Casino Royale from the same country?\n",
    "Are follow up questions needed here: Yes.\n",
    "Follow up: Who is the director of Jaws?\n",
    "Intermediate answer: The director of Jaws is Steven Spielberg.\n",
    "Follow up: Where is Steven Spielberg from?\n",
    "Intermediate answer: The United States.\n",
    "Follow up: Who is the director of Casino Royale?\n",
    "Intermediate answer: The director of Casino Royale is Martin Campbell.\n",
    "Follow up: Where is Martin Campbell from?\n",
    "Intermediate answer: New Zealand.\n",
    "So the final answer is: No\n",
    "\n",
    "Question: {input}\n",
    "Are followup questions needed here:{agent_scratchpad}\n",
    "```"
   ]
  },
  {
   "cell_type": "code",
   "execution_count": null,
   "id": "6e98bc6b-8a6a-46cb-9583-38ad16e54a25",
   "metadata": {},
   "outputs": [],
   "source": [
    "from langchain.agents import create_self_ask_with_search_agent\n",
    "\n",
    "prompt = hub.pull(\"hwchase17/self-ask-with-search\")"
   ]
  },
  {
   "cell_type": "markdown",
   "id": "a092f002-6e60-41f6-bd8b-48c9cc937745",
   "metadata": {},
   "source": [
    "## Агент с памятью 🧠"
   ]
  },
  {
   "cell_type": "markdown",
   "id": "59fe4c4d-90cf-4b32-a3f2-ec1d353b4ef1",
   "metadata": {},
   "source": [
    "План:\n",
    "1. параметры\n",
    "2. Api для гугла от SerpApi\n",
    "3. реакт + self ask with search\n",
    "4. агент + память\n",
    "5. агент + RAG (rag промпт from hub)\n",
    "6. агент с sql базой (https://sqliteviewer.app - онлайн просмотр базы)\n",
    "7. rest API + langsmith (продвинутые инструменты ?)\n",
    "8. LangFlow"
   ]
  },
  {
   "cell_type": "code",
   "execution_count": 9,
   "id": "728c0c7c-395b-40e1-9d38-17f941b257c1",
   "metadata": {},
   "outputs": [
    {
     "data": {
      "text/plain": [
       "18"
      ]
     },
     "execution_count": 9,
     "metadata": {},
     "output_type": "execute_result"
    }
   ],
   "source": [
    "d = {18 : 1}\n",
    "\n",
    "list(d.items())[0][0]"
   ]
  },
  {
   "cell_type": "code",
   "execution_count": null,
   "id": "f7dec98e-7fc1-40ed-b5a2-1c1a2b59a1d4",
   "metadata": {},
   "outputs": [],
   "source": []
  }
 ],
 "metadata": {
  "kernelspec": {
   "display_name": "Python 3 (ipykernel)",
   "language": "python",
   "name": "python3"
  },
  "language_info": {
   "codemirror_mode": {
    "name": "ipython",
    "version": 3
   },
   "file_extension": ".py",
   "mimetype": "text/x-python",
   "name": "python",
   "nbconvert_exporter": "python",
   "pygments_lexer": "ipython3",
   "version": "3.10.13"
  }
 },
 "nbformat": 4,
 "nbformat_minor": 5
}
