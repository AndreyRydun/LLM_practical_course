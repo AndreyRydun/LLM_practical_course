{
 "cells": [
  {
   "cell_type": "markdown",
   "id": "3d6bf25d-6a5e-48de-810c-4eafdec8783a",
   "metadata": {},
   "source": [
    "# <center><h1> 🦜🔗 📝 MEMORY - запускаем чат-режим!</h1></center>"
   ]
  },
  {
   "cell_type": "markdown",
   "id": "ec30b379-e427-4557-bf9f-7262ee23828c",
   "metadata": {},
   "source": [
    "### Оглавление ноутбука\n",
    "<img src='https://assets.cdn.prod.twilio.com/images/CLK0PzsrPZu0uIGxgMbZ8V7HtCJC4myfgeCpb5fOLxUKo.width-1000.png' align=\"right\" width=\"600\" height=\"650\" />\n",
    "<br>\n",
    "\n",
    "<p><font size=\"3\" face=\"Arial\" font-size=\"large\"><ul type=\"square\">\n",
    "    \n",
    "<li><a href=\"#c1\">🚀 Введение </a></li>\n",
    "<li><a href=\"#c2\">📝 Memory - сохранение истории диалога с LLM</a></li><ul type=\"square\">\n",
    "<li><a href=\"#c3\">ConversationBufferMemory </a>\n",
    "<li><a href=\"#c4\">ConversationBufferWindowMemory и ConversationTokenBufferMemory </a>\n",
    "<li><a href=\"#c5\">ConversationSummaryMemory</a></ul>\n",
    "    \n",
    "</ul></font></p>"
   ]
  },
  {
   "cell_type": "markdown",
   "id": "d6e7d6af-042a-493e-99a1-329b150168ca",
   "metadata": {},
   "source": [
    "### В этом ноутбуке рассмотрим подробнее работу с `Memory`."
   ]
  },
  {
   "cell_type": "markdown",
   "id": "6d789781-fdec-470e-b0d4-fc3f72d10668",
   "metadata": {},
   "source": [
    "<div class=\"alert alert-info\">\n",
    "    \n",
    "Память позволяет LLM запоминать предыдущие взаимодействия с пользователем. По умолчанию LLM является `stateless`, что означает независимую обработку каждого входящего запроса от других взаимодействий. На самом деле, когда мы вводим запросы в интерфейсе ChatGPT, под капотом работает память. <br>\n",
    "В `LangChain` есть различные реализации памяти, посмотрим как они функционируют.<br>"
   ]
  },
  {
   "cell_type": "markdown",
   "id": "3f3fad12-1d97-49a3-96a0-f4dbcd956f99",
   "metadata": {
    "tags": []
   },
   "source": [
    " ###  <center>  `ConversationBufferMemory` - сохраняет всю историю диалога"
   ]
  },
  {
   "cell_type": "code",
   "execution_count": 1,
   "id": "5187a29a-8918-4c17-b8e3-b5bef1c57c3b",
   "metadata": {
    "tags": []
   },
   "outputs": [],
   "source": [
    "#!pip install langchain openai tiktoken -q"
   ]
  },
  {
   "cell_type": "code",
   "execution_count": null,
   "id": "fa3df72e-4070-4912-927d-620070f48fda",
   "metadata": {},
   "outputs": [],
   "source": [
    "# Для работы в колабе загрузите наш скрипт для использования ChatGPT на сервере курса!\n",
    "#!wget https://raw.githubusercontent.com/a-milenkin/LLM_practical_course/main/notebooks/utils.py"
   ]
  },
  {
   "cell_type": "code",
   "execution_count": 18,
   "id": "f136edc2-cfc9-4174-b19d-7297869fbf2c",
   "metadata": {
    "tags": []
   },
   "outputs": [],
   "source": [
    "import os\n",
    "from getpass import getpass\n",
    "from langchain.chains import ConversationChain, LLMChain\n",
    "from langchain.memory import ConversationBufferMemory"
   ]
  },
  {
   "cell_type": "code",
   "execution_count": 2,
   "id": "4ac87aa2-1813-409c-bbaf-51a715b38dca",
   "metadata": {
    "tags": []
   },
   "outputs": [],
   "source": [
    "# # Если используете ключ от OpenAI, запустите эту ячейку\n",
    "# from langchain.chat_models import ChatOpenAI\n",
    "\n",
    "# # os.environ['OPENAI_API_KEY'] = \"Введите ваш OpenAI API ключ\"\n",
    "# os.environ['OPENAI_API_KEY'] = getpass(prompt='Введите ваш OpenAI API ключ')\n",
    "\n",
    "# # инициализируем языковую модель\n",
    "# llm = ChatOpenAI(temperature=0.0)"
   ]
  },
  {
   "cell_type": "code",
   "execution_count": 11,
   "id": "a32eddae-5c2f-4b38-8c77-39a93741d6ae",
   "metadata": {
    "tags": []
   },
   "outputs": [
    {
     "name": "stdin",
     "output_type": "stream",
     "text": [
      "Введите ваш OpenAI API ключ ········\n"
     ]
    }
   ],
   "source": [
    "# Если используете ключ из курса, запустите эту ячейку\n",
    "from utils import ChatOpenAI\n",
    "\n",
    "#course_api_key= \"Введите ваш OpenAI API ключ\"\n",
    "course_api_key = getpass(prompt='Введите ваш OpenAI API ключ')\n",
    "\n",
    "# инициализируем языковую модель\n",
    "llm = ChatOpenAI(temperature=0.0, course_api_key=course_api_key)"
   ]
  },
  {
   "cell_type": "code",
   "execution_count": 13,
   "id": "acffe1a1-1974-4930-9c6f-c7d178461a2a",
   "metadata": {
    "tags": []
   },
   "outputs": [],
   "source": [
    "# создаём цепочку диалога, в параметры передаём языковую модель и память\n",
    "memory = ConversationBufferMemory()\n",
    "conversation_buf_mem = ConversationChain(\n",
    "    llm=llm, \n",
    "    memory = memory,\n",
    "    verbose=True\n",
    ")"
   ]
  },
  {
   "cell_type": "code",
   "execution_count": 15,
   "id": "7d51c809-5aea-4fbf-8559-415ffb5f633c",
   "metadata": {
    "tags": []
   },
   "outputs": [
    {
     "name": "stdout",
     "output_type": "stream",
     "text": [
      "\n",
      "\n",
      "\u001b[1m> Entering new ConversationChain chain...\u001b[0m\n",
      "Prompt after formatting:\n",
      "\u001b[32;1m\u001b[1;3mThe following is a friendly conversation between a human and an AI. The AI is talkative and provides lots of specific details from its context. If the AI does not know the answer to a question, it truthfully says it does not know.\n",
      "\n",
      "Current conversation:\n",
      "\n",
      "Human: Привет, ChatGPT! Меня зовут Иван. Как дела?\n",
      "AI:\u001b[0m\n",
      "\n",
      "\u001b[1m> Finished chain.\u001b[0m\n"
     ]
    },
    {
     "data": {
      "text/plain": [
       "{'input': 'Привет, ChatGPT! Меня зовут Иван. Как дела?',\n",
       " 'history': '',\n",
       " 'response': 'Привет, Иван! Я рад снова поболтать с тобой. Я всего лишь программа, но у меня все отлично - всегда готов к интересным разговорам. Как я могу помочь тебе сегодня?'}"
      ]
     },
     "execution_count": 15,
     "metadata": {},
     "output_type": "execute_result"
    }
   ],
   "source": [
    "# Спросим Как дела? Видим, что пока контекст пустой (ключ history)\n",
    "\n",
    "conversation_buf_mem(\"Привет, ChatGPT! Меня зовут Иван. Как дела?\")"
   ]
  },
  {
   "cell_type": "code",
   "execution_count": 6,
   "id": "dfafe281-3af9-4fdf-a439-96cc85bb8ac2",
   "metadata": {
    "tags": []
   },
   "outputs": [
    {
     "name": "stdout",
     "output_type": "stream",
     "text": [
      "\n",
      "\n",
      "\u001b[1m> Entering new ConversationChain chain...\u001b[0m\n",
      "Prompt after formatting:\n",
      "\u001b[32;1m\u001b[1;3mThe following is a friendly conversation between a human and an AI. The AI is talkative and provides lots of specific details from its context. If the AI does not know the answer to a question, it truthfully says it does not know.\n",
      "\n",
      "Current conversation:\n",
      "Human: Привет, ChatGPT! Меня зовут Иван. Как дела?\n",
      "AI: Привет, Иван! Я рад познакомиться с тобой. У меня все хорошо, спасибо! Как твои дела?\n",
      "Human: Сможешь помочь мне в написании кода на Python?\n",
      "AI:\u001b[0m\n",
      "\n",
      "\u001b[1m> Finished chain.\u001b[0m\n"
     ]
    },
    {
     "data": {
      "text/plain": [
       "{'input': 'Сможешь помочь мне в написании кода на Python?',\n",
       " 'history': 'Human: Привет, ChatGPT! Меня зовут Иван. Как дела?\\nAI: Привет, Иван! Я рад познакомиться с тобой. У меня все хорошо, спасибо! Как твои дела?',\n",
       " 'response': 'Конечно, я постараюсь помочь! Что именно тебе нужно сделать?'}"
      ]
     },
     "execution_count": 6,
     "metadata": {},
     "output_type": "execute_result"
    }
   ],
   "source": [
    "conversation_buf_mem(\"Сможешь помочь мне в написании кода на Python?\")"
   ]
  },
  {
   "cell_type": "code",
   "execution_count": 7,
   "id": "b9a4a291-1e6b-48c9-9e23-a0c95cac3caa",
   "metadata": {
    "tags": []
   },
   "outputs": [
    {
     "name": "stdout",
     "output_type": "stream",
     "text": [
      "\n",
      "\n",
      "\u001b[1m> Entering new ConversationChain chain...\u001b[0m\n",
      "Prompt after formatting:\n",
      "\u001b[32;1m\u001b[1;3mThe following is a friendly conversation between a human and an AI. The AI is talkative and provides lots of specific details from its context. If the AI does not know the answer to a question, it truthfully says it does not know.\n",
      "\n",
      "Current conversation:\n",
      "Human: Привет, ChatGPT! Меня зовут Иван. Как дела?\n",
      "AI: Привет, Иван! Я рад познакомиться с тобой. У меня все хорошо, спасибо! Как твои дела?\n",
      "Human: Сможешь помочь мне в написании кода на Python?\n",
      "AI: Конечно, я постараюсь помочь! Что именно тебе нужно сделать?\n",
      "Human: Как вывести на экран фразу 'Hello, world!' ?\n",
      "AI:\u001b[0m\n",
      "\n",
      "\u001b[1m> Finished chain.\u001b[0m\n"
     ]
    },
    {
     "data": {
      "text/plain": [
       "{'input': \"Как вывести на экран фразу 'Hello, world!' ?\",\n",
       " 'history': 'Human: Привет, ChatGPT! Меня зовут Иван. Как дела?\\nAI: Привет, Иван! Я рад познакомиться с тобой. У меня все хорошо, спасибо! Как твои дела?\\nHuman: Сможешь помочь мне в написании кода на Python?\\nAI: Конечно, я постараюсь помочь! Что именно тебе нужно сделать?',\n",
       " 'response': \"Чтобы вывести на экран фразу 'Hello, world!' на Python, ты можешь использовать функцию print(). Просто напиши print('Hello, world!') и запусти программу.\"}"
      ]
     },
     "execution_count": 7,
     "metadata": {},
     "output_type": "execute_result"
    }
   ],
   "source": [
    "conversation_buf_mem(\"Как вывести на экран фразу 'Hello, world!' ?\")"
   ]
  },
  {
   "cell_type": "markdown",
   "id": "34600c0d-2594-465d-aacc-dc63b1ad07fe",
   "metadata": {},
   "source": [
    "<div class=\"alert alert-info\">\n",
    "    \n",
    "#### Видно, что благодаря запоминанию контекста, модель знала, что нам нужен ответ именно c синтаксисом языка Python."
   ]
  },
  {
   "cell_type": "code",
   "execution_count": 8,
   "id": "ee588076-b67b-4700-83bf-f4a81d1aa5fc",
   "metadata": {
    "tags": []
   },
   "outputs": [
    {
     "name": "stdout",
     "output_type": "stream",
     "text": [
      "Human: Привет, ChatGPT! Меня зовут Иван. Как дела?\n",
      "AI: Привет, Иван! Я рад познакомиться с тобой. У меня все хорошо, спасибо! Как твои дела?\n",
      "Human: Сможешь помочь мне в написании кода на Python?\n",
      "AI: Конечно, я постараюсь помочь! Что именно тебе нужно сделать?\n",
      "Human: Как вывести на экран фразу 'Hello, world!' ?\n",
      "AI: Чтобы вывести на экран фразу 'Hello, world!' на Python, ты можешь использовать функцию print(). Просто напиши print('Hello, world!') и запусти программу.\n"
     ]
    }
   ],
   "source": [
    "# Посмотреть содержимое истории диалога можно с помощью атрибута buffer\n",
    "# При использовании буферной памяти, в history просто записываются все предыдущие сообщения.\n",
    "print(conversation_buf_mem.memory.buffer)"
   ]
  },
  {
   "cell_type": "code",
   "execution_count": 9,
   "id": "4eb5ec56-79f2-4f9e-bf61-b6f0cef16d22",
   "metadata": {
    "tags": []
   },
   "outputs": [
    {
     "data": {
      "text/plain": [
       "{'history': \"Human: Привет, ChatGPT! Меня зовут Иван. Как дела?\\nAI: Привет, Иван! Я рад познакомиться с тобой. У меня все хорошо, спасибо! Как твои дела?\\nHuman: Сможешь помочь мне в написании кода на Python?\\nAI: Конечно, я постараюсь помочь! Что именно тебе нужно сделать?\\nHuman: Как вывести на экран фразу 'Hello, world!' ?\\nAI: Чтобы вывести на экран фразу 'Hello, world!' на Python, ты можешь использовать функцию print(). Просто напиши print('Hello, world!') и запусти программу.\"}"
      ]
     },
     "execution_count": 9,
     "metadata": {},
     "output_type": "execute_result"
    }
   ],
   "source": [
    "# Или воспользоваться методом load_memory_variables, так же можно обращаться напрямую к объекту memory\n",
    "memory.load_memory_variables({})"
   ]
  },
  {
   "cell_type": "markdown",
   "id": "51f61102-39fd-42f5-8166-a66c29655bf4",
   "metadata": {},
   "source": [
    "**Так же контекст (историю) можно задавать вручную или подгружать из файла.**"
   ]
  },
  {
   "cell_type": "code",
   "execution_count": 10,
   "id": "26e001ca-6142-4b76-b496-c64663691927",
   "metadata": {
    "height": 30,
    "tags": []
   },
   "outputs": [
    {
     "name": "stdout",
     "output_type": "stream",
     "text": [
      "Human: Привет!\n",
      "AI: Как дела?\n"
     ]
    }
   ],
   "source": [
    "# Создадим новый буфер\n",
    "memory = ConversationBufferMemory()\n",
    "\n",
    "# загрузим диалог в память\n",
    "memory.save_context({\"input\": \"Привет!\"}, \n",
    "                    {\"output\": \"Как дела?\"})\n",
    "\n",
    "print(memory.buffer)"
   ]
  },
  {
   "cell_type": "code",
   "execution_count": 11,
   "id": "0da4f9c7-d9fc-4f2a-a70a-cfb3ee1b7976",
   "metadata": {
    "height": 30,
    "tags": []
   },
   "outputs": [
    {
     "data": {
      "text/plain": [
       "{'history': 'Human: Привет!\\nAI: Как дела?'}"
      ]
     },
     "execution_count": 11,
     "metadata": {},
     "output_type": "execute_result"
    }
   ],
   "source": [
    "memory.load_memory_variables({})"
   ]
  },
  {
   "cell_type": "code",
   "execution_count": 12,
   "id": "93b13214-6d19-4b6d-aec4-2eed8a9618ea",
   "metadata": {
    "tags": []
   },
   "outputs": [
    {
     "data": {
      "text/plain": [
       "{'history': 'Human: Привет!\\nAI: Как дела?\\nHuman: Спасибо, хорошо!\\nAI: Здорово!'}"
      ]
     },
     "execution_count": 12,
     "metadata": {},
     "output_type": "execute_result"
    }
   ],
   "source": [
    "# Добавим продолжение диалога\n",
    "memory.save_context({\"input\": \"Спасибо, хорошо!\"}, \n",
    "                    {\"output\": \"Здорово!\"})\n",
    "\n",
    "# Буфер дополнился\n",
    "memory.load_memory_variables({})"
   ]
  },
  {
   "cell_type": "markdown",
   "id": "cb6d6c95-032d-4d8f-90f1-715b92f6eb36",
   "metadata": {},
   "source": [
    "<div class=\"alert alert-info\">\n",
    "    \n",
    "**Заглянем под капот:**\n",
    "* Каждое новое сообщение подается в специальный промпт\n",
    "* В промпт подаются 2 переменные `history` и `input`\n",
    "* В параметре `template` описан шаблон промпта, в которые вставляются переменные.\n",
    "* Остальное делает ChatGPT 🪄"
   ]
  },
  {
   "cell_type": "code",
   "execution_count": 13,
   "id": "187df0b2-4659-4fd3-bdd4-99752ced93bd",
   "metadata": {
    "tags": []
   },
   "outputs": [
    {
     "data": {
      "text/plain": [
       "PromptTemplate(input_variables=['history', 'input'], template='The following is a friendly conversation between a human and an AI. The AI is talkative and provides lots of specific details from its context. If the AI does not know the answer to a question, it truthfully says it does not know.\\n\\nCurrent conversation:\\n{history}\\nHuman: {input}\\nAI:')"
      ]
     },
     "execution_count": 13,
     "metadata": {},
     "output_type": "execute_result"
    }
   ],
   "source": [
    "# Посмотрим на этот промпт\n",
    "conversation_buf_mem.prompt"
   ]
  },
  {
   "cell_type": "code",
   "execution_count": 14,
   "id": "8a3255f2-7fcb-498d-a631-109be57d7243",
   "metadata": {
    "tags": []
   },
   "outputs": [
    {
     "name": "stdout",
     "output_type": "stream",
     "text": [
      "The following is a friendly conversation between a human and an AI. The AI is talkative and provides lots of specific details from its context. If the AI does not know the answer to a question, it truthfully says it does not know.\n",
      "\n",
      "Current conversation:\n",
      "{history}\n",
      "Human: {input}\n",
      "AI:\n"
     ]
    }
   ],
   "source": [
    "print(conversation_buf_mem.prompt.template)"
   ]
  },
  {
   "cell_type": "markdown",
   "id": "b678d05f-3def-4dc2-9702-290265b9828a",
   "metadata": {},
   "source": [
    "<div class=\"alert alert-info\">\n",
    "    \n",
    "Этот тип памяти можно использовать в задачах с короткими диалогами и небольшим контекстом.<br>\n",
    "**Недостатки `ConversationBufferMemory`:**\n",
    "* Чем длиннее история, тем больше токенов придется подавать на вход\n",
    "* В случае платных моделей, это будет накладно по финансам\n",
    "* Контекст моделей тоже ограничен по количеству токенов (около 4K в случае ChatGPT)"
   ]
  },
  {
   "cell_type": "markdown",
   "id": "bff12589-be18-4be9-85d8-68872d34cbd0",
   "metadata": {
    "tags": []
   },
   "source": [
    "### <center> `ConversationBufferWindowMemory` и `ConversationTokenBufferMemory` - сохраняют лимитированную часть контекста диалога"
   ]
  },
  {
   "cell_type": "markdown",
   "id": "ffa20e7d-37ec-4e65-8807-d75af6484b30",
   "metadata": {
    "tags": []
   },
   "source": [
    "<div class=\"alert alert-info\">\n",
    "\n",
    "Похожие, по своей сути, 2 типа памяти:\n",
    "* `ConversationBufferWindowMemory` - сохраняет в буфере только последние `k` диалогов.\n",
    "* `ConversationTokenBufferMemory` - использует лимит токенов, который определяется количеством слов в сохраненных сообщениях."
   ]
  },
  {
   "cell_type": "code",
   "execution_count": 19,
   "id": "ef25fd5b-8fe7-40aa-8af4-b235411ff97d",
   "metadata": {
    "height": 30,
    "tags": []
   },
   "outputs": [
    {
     "data": {
      "text/plain": [
       "{'history': 'Human: Спасибо, хорошо!\\nAI: Здорово!'}"
      ]
     },
     "execution_count": 19,
     "metadata": {},
     "output_type": "execute_result"
    }
   ],
   "source": [
    "from langchain.memory import ConversationBufferWindowMemory\n",
    "\n",
    "memory = ConversationBufferWindowMemory(k=1)               \n",
    "\n",
    "memory.save_context({\"input\": \"Привет!\"}, \n",
    "                    {\"output\": \"Как дела?\"})\n",
    "memory.save_context({\"input\": \"Спасибо, хорошо!\"}, \n",
    "                    {\"output\": \"Здорово!\"})\n",
    "\n",
    "\n",
    "memory.load_memory_variables({}) # Видим, что при k=1, в буфере остался только последний диалог"
   ]
  },
  {
   "cell_type": "code",
   "execution_count": 20,
   "id": "9908725f-264a-4a87-a4c8-5038c0fbb122",
   "metadata": {
    "height": 132,
    "tags": []
   },
   "outputs": [],
   "source": [
    "memory = ConversationBufferWindowMemory(k=1)\n",
    "conversation_bufwin_mem = ConversationChain(\n",
    "    llm=llm, \n",
    "    memory = memory,\n",
    "    verbose=False\n",
    ")"
   ]
  },
  {
   "cell_type": "code",
   "execution_count": 21,
   "id": "a54686f4-a2f8-441b-9594-686efa81dff3",
   "metadata": {
    "height": 30,
    "tags": []
   },
   "outputs": [
    {
     "data": {
      "text/plain": [
       "{'input': 'Привет, ChatGPT! Меня зовут Иван. Как дела?',\n",
       " 'history': '',\n",
       " 'response': 'Привет, Иван! У меня все отлично, спасибо за спрос. Как могу помочь тебе сегодня?'}"
      ]
     },
     "execution_count": 21,
     "metadata": {},
     "output_type": "execute_result"
    }
   ],
   "source": [
    "conversation_bufwin_mem(\"Привет, ChatGPT! Меня зовут Иван. Как дела?\")"
   ]
  },
  {
   "cell_type": "code",
   "execution_count": 18,
   "id": "43dd05e0-401e-4ef1-b8a4-dab60e3b8a1e",
   "metadata": {
    "height": 30,
    "tags": []
   },
   "outputs": [
    {
     "data": {
      "text/plain": [
       "'Конечно, я помогу тебе с написанием кода на Python! Что именно ты хотел бы написать?'"
      ]
     },
     "execution_count": 18,
     "metadata": {},
     "output_type": "execute_result"
    }
   ],
   "source": [
    "# так же можно обращаться к цепочке через метод predict и в аутпуте получим только ответ модели\n",
    "conversation_bufwin_mem.predict(input=\"Сможешь помочь мне в написании кода на Python?\")"
   ]
  },
  {
   "cell_type": "code",
   "execution_count": 19,
   "id": "2d7cb0dc-5adc-477b-a71f-2150f657ca35",
   "metadata": {
    "height": 30,
    "tags": []
   },
   "outputs": [
    {
     "data": {
      "text/plain": [
       "'Извините, но я не знаю, как вас зовут. Я только могу помочь с вопросами и задачами, связанными с кодированием на Python.'"
      ]
     },
     "execution_count": 19,
     "metadata": {},
     "output_type": "execute_result"
    }
   ],
   "source": [
    "# Видим, что при k=1 первый диалог с именем не сохранился и модель не может ответить\n",
    "conversation_bufwin_mem.predict(input=\"Как меня зовут?\")"
   ]
  },
  {
   "cell_type": "code",
   "execution_count": 20,
   "id": "88cee7bf-2d1d-475c-a603-53a2e4f3eb38",
   "metadata": {
    "height": 30,
    "tags": []
   },
   "outputs": [
    {
     "data": {
      "application/vnd.jupyter.widget-view+json": {
       "model_id": "4f21c8553c80465f8b93b4d1e8b16ae9",
       "version_major": 2,
       "version_minor": 0
      },
      "text/plain": [
       "Downloading (…)olve/main/vocab.json:   0%|          | 0.00/1.04M [00:00<?, ?B/s]"
      ]
     },
     "metadata": {},
     "output_type": "display_data"
    },
    {
     "data": {
      "application/vnd.jupyter.widget-view+json": {
       "model_id": "ce8731ea049e44829c13b57286661c85",
       "version_major": 2,
       "version_minor": 0
      },
      "text/plain": [
       "Downloading (…)olve/main/merges.txt:   0%|          | 0.00/456k [00:00<?, ?B/s]"
      ]
     },
     "metadata": {},
     "output_type": "display_data"
    },
    {
     "data": {
      "application/vnd.jupyter.widget-view+json": {
       "model_id": "1c1bd8f8328a4695873ac0b78f4c8761",
       "version_major": 2,
       "version_minor": 0
      },
      "text/plain": [
       "Downloading (…)/main/tokenizer.json:   0%|          | 0.00/1.36M [00:00<?, ?B/s]"
      ]
     },
     "metadata": {},
     "output_type": "display_data"
    },
    {
     "data": {
      "application/vnd.jupyter.widget-view+json": {
       "model_id": "2d16cc6619d444358ad4c5efc375f25b",
       "version_major": 2,
       "version_minor": 0
      },
      "text/plain": [
       "Downloading (…)lve/main/config.json:   0%|          | 0.00/665 [00:00<?, ?B/s]"
      ]
     },
     "metadata": {},
     "output_type": "display_data"
    },
    {
     "data": {
      "text/plain": [
       "{'history': 'AI: Как дела?\\nHuman: Спасибо, хорошо!\\nAI: Здорово!'}"
      ]
     },
     "execution_count": 20,
     "metadata": {},
     "output_type": "execute_result"
    }
   ],
   "source": [
    "from langchain.memory import ConversationTokenBufferMemory\n",
    "\n",
    "# Инициализируем новый token-буфер, подаем в него модель и лимит токенов\n",
    "# Модель подаём потому что модели по-разному токенизируют текст\n",
    "memory = ConversationTokenBufferMemory(llm=openai_llm, max_token_limit=50)\n",
    "\n",
    "memory.save_context({\"input\": \"Привет!\"}, \n",
    "                    {\"output\": \"Как дела?\"})\n",
    "memory.save_context({\"input\": \"Спасибо, хорошо!\"}, \n",
    "                    {\"output\": \"Здорово!\"})\n",
    "\n",
    "memory.load_memory_variables({})"
   ]
  },
  {
   "cell_type": "markdown",
   "id": "0ff31547-6ab1-4c21-9ce6-64ea2b98c746",
   "metadata": {},
   "source": [
    "## <center> 🗜🗣 `ConversationSummaryMemory` - сохраняет \"смысл\"\n",
    "Этот вид памяти суммаризует историю разговора перед передачей её в параметр `history`. Таким образом, можно сократить объем текста, обрабатываемого моделью и тратить меньше токенов."
   ]
  },
  {
   "cell_type": "code",
   "execution_count": 22,
   "id": "92388461-084d-4e4b-b7a6-f468f402765b",
   "metadata": {
    "tags": []
   },
   "outputs": [
    {
     "name": "stdout",
     "output_type": "stream",
     "text": [
      "Progressively summarize the lines of conversation provided, adding onto the previous summary returning a new summary.\n",
      "\n",
      "EXAMPLE\n",
      "Current summary:\n",
      "The human asks what the AI thinks of artificial intelligence. The AI thinks artificial intelligence is a force for good.\n",
      "\n",
      "New lines of conversation:\n",
      "Human: Why do you think artificial intelligence is a force for good?\n",
      "AI: Because artificial intelligence will help humans reach their full potential.\n",
      "\n",
      "New summary:\n",
      "The human asks what the AI thinks of artificial intelligence. The AI thinks artificial intelligence is a force for good because it will help humans reach their full potential.\n",
      "END OF EXAMPLE\n",
      "\n",
      "Current summary:\n",
      "{summary}\n",
      "\n",
      "New lines of conversation:\n",
      "{new_lines}\n",
      "\n",
      "New summary:\n"
     ]
    }
   ],
   "source": [
    "from langchain.chains.conversation.memory import ConversationSummaryMemory\n",
    "\n",
    "# Здесь тоже подаём модель, так как она необходима для суммаризации текста(не обязательно использовать ChatGPT)\n",
    "memory = ConversationSummaryMemory(llm=llm)\n",
    "\n",
    "conversation_sum_mem = ConversationChain(\n",
    "    llm=llm,\n",
    "    memory=memory\n",
    ")\n",
    "\n",
    "# посмотрим как поменялся шаблон для промпта\n",
    "print(conversation_sum_mem.memory.prompt.template)"
   ]
  },
  {
   "cell_type": "markdown",
   "id": "1ab4055e-66a9-4e08-afc8-1e9cd0e8808e",
   "metadata": {},
   "source": [
    "<div class=\"alert alert-info\">\n",
    "    \n",
    "Теперь у нас появляется этап предобработки истории. На вход LLM мы подаем предыдущую историю (в виде `summary`), добавляем к ней текущий вывод модели (`new_lines`) и получаем новое состояние `summary`."
   ]
  },
  {
   "cell_type": "code",
   "execution_count": 24,
   "id": "c70a45b0-c78f-48ac-936e-38ac6f3cdd02",
   "metadata": {
    "tags": []
   },
   "outputs": [
    {
     "data": {
      "text/plain": [
       "{'input': 'Привет, ChatGPT! Меня зовут Иван. Как дела?',\n",
       " 'history': '',\n",
       " 'response': 'Привет, Иван! Я рад, что ты обратился ко мне. Я великолепно! Чем могу помочь тебе сегодня?'}"
      ]
     },
     "execution_count": 24,
     "metadata": {},
     "output_type": "execute_result"
    }
   ],
   "source": [
    "conversation_sum_mem(\"Привет, ChatGPT! Меня зовут Иван. Как дела?\")"
   ]
  },
  {
   "cell_type": "code",
   "execution_count": 25,
   "id": "94232c61-0dc2-48e6-8f2e-17d6c80785b2",
   "metadata": {
    "tags": []
   },
   "outputs": [
    {
     "data": {
      "text/plain": [
       "{'input': 'Сможешь помочь мне в написании кода на Python?',\n",
       " 'history': 'The human greets the AI and introduces themselves as Ivan. The AI responds with a greeting and expresses its pleasure in being approached. The AI asks Ivan how it can assist him today.',\n",
       " 'response': 'Конечно, могу помочь! Что именно ты пытаешься сделать?'}"
      ]
     },
     "execution_count": 25,
     "metadata": {},
     "output_type": "execute_result"
    }
   ],
   "source": [
    "# Видим в history, суммаризованый предыдущий диалог уже на английском\n",
    "conversation_sum_mem(\"Сможешь помочь мне в написании кода на Python?\")"
   ]
  },
  {
   "cell_type": "code",
   "execution_count": 26,
   "id": "05326ec3-9c55-4d75-93a3-7ba16fca54c5",
   "metadata": {
    "tags": []
   },
   "outputs": [
    {
     "data": {
      "text/plain": [
       "{'input': 'Как меня зовут?',\n",
       " 'history': 'The human greets the AI and introduces themselves as Ivan. The AI responds with a greeting and expresses its pleasure in being approached. The AI asks Ivan how it can assist him today. Ivan asks the AI if it can help him with writing code in Python. The AI responds that it can help and asks Ivan what he is trying to accomplish.',\n",
       " 'response': 'Простите, но я не могу знать ваше имя, так как мы общаемся только через текстовый интерфейс. Меня зовут OpenAI, и я здесь, чтобы помочь вам с кодированием на Python. В чем я могу вам помочь сегодня?'}"
      ]
     },
     "execution_count": 26,
     "metadata": {},
     "output_type": "execute_result"
    }
   ],
   "source": [
    "conversation_sum_mem(\"Как меня зовут?\")"
   ]
  },
  {
   "cell_type": "code",
   "execution_count": 27,
   "id": "8a1552a5-3dd4-4728-b7b3-7f241d24650d",
   "metadata": {
    "tags": []
   },
   "outputs": [
    {
     "data": {
      "text/plain": [
       "{'input': 'What is my name in English?',\n",
       " 'history': 'The human greets the AI and introduces themselves as Ivan. The AI responds with a greeting and expresses its pleasure in being approached. The AI asks Ivan how it can assist him today. Ivan asks the AI if it can help him with writing code in Python. The AI responds that it can help and asks Ivan what he is trying to accomplish. The human then asks the AI, \"What is my name?\" The AI apologizes and explains that it cannot know his name as they are only communicating through a text interface. The AI then introduces itself as OpenAI and offers to help with Python coding. It asks Ivan how it can assist him today.',\n",
       " 'response': \"I'm sorry, but I don't have access to your personal information, including your name. Therefore, I cannot determine what your name is in English. Can I help you with anything else?\"}"
      ]
     },
     "execution_count": 27,
     "metadata": {},
     "output_type": "execute_result"
    }
   ],
   "source": [
    "conversation_sum_mem(\"What is my name in English?\")"
   ]
  },
  {
   "cell_type": "markdown",
   "id": "55034146-01aa-4ae0-91fc-20f8decd6593",
   "metadata": {},
   "source": [
    "<div class=\"alert alert-info\">\n",
    "    \n",
    "### Другие виды памяти:\n",
    "\n",
    "* `ConversationSummaryBufferMemory` - позволяет задать окно (в токенах), в рамках которого мы сохраняем диалоги в неизменной форме, а при превышении - суммаризируем.\n",
    "* `ConversationKGMemory` - использует граф знаний для сохранения памяти.\n",
    "* `ConversationEntityMemory` - сохраняет в памяти знания об определенном объекте."
   ]
  },
  {
   "cell_type": "markdown",
   "id": "12cb6a46-c81b-4ea1-9d26-b5ac6d4e5ff8",
   "metadata": {},
   "source": [
    "# <center><h1>🔗 Chains 🔗 - продолжение следует...</h1></center>"
   ]
  }
 ],
 "metadata": {
  "kernelspec": {
   "display_name": "Python 3 (ipykernel)",
   "language": "python",
   "name": "python3"
  },
  "language_info": {
   "codemirror_mode": {
    "name": "ipython",
    "version": 3
   },
   "file_extension": ".py",
   "mimetype": "text/x-python",
   "name": "python",
   "nbconvert_exporter": "python",
   "pygments_lexer": "ipython3",
   "version": "3.9.17"
  }
 },
 "nbformat": 4,
 "nbformat_minor": 5
}
