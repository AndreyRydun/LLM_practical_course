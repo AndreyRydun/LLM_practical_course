{
 "cells": [
  {
   "cell_type": "markdown",
   "id": "1aba1183-53a1-4aa7-b1c3-6a6687e050b9",
   "metadata": {},
   "source": [
    "# <center><h1> ⛓ CHAINS 🔗</h1></center>"
   ]
  },
  {
   "cell_type": "markdown",
   "id": "9fee959e",
   "metadata": {},
   "source": [
    "\n",
    "\n",
    "### Оглавление ноутбука\n",
    "<img src='https://i.ytimg.com/vi/W3AoeMrg27o/maxresdefault.jpg' align=\"right\" width=\"600\" height=\"650\" />\n",
    "<br>\n",
    "\n",
    "<p><font size=\"3\" face=\"Arial\" font-size=\"large\"><ul type=\"square\">\n",
    "    \n",
    "<li><a href=\"#c1\">🚀 Введение </a></li>\n",
    "<li><a href=\"#c2\">💊 Generic Chains </a></li><ul type=\"square\">\n",
    "<li><a href=\"#c3\">LLMChain 🔗 </a>\n",
    "<li><a href=\"#c4\">TransformChain 🤖 </a>\n",
    "<li><a href=\"#c5\">SequentialChain 🔗➕⛓</a>\n",
    "<li><a href=\"#c6\">Router Chain 🈯️ ➡️ 🇯🇵</a></ul>\n",
    "<li><a href=\"#c7\">🛠 Utility Chains 🪝 </a></li>\n",
    "<li><a href=\"#c8\">🧸 Выводы и заключения ✅ </a></li>\n",
    "    \n",
    "</ul></font></p>"
   ]
  },
  {
   "cell_type": "markdown",
   "id": "56448a2d-8dee-48b5-b736-add4f6ccd474",
   "metadata": {},
   "source": [
    "<div class=\"alert alert-info\">\n",
    "    \n",
    "Как вы могли догадаться из названия, **цепочки (Chains)** - это один из фундаментальных строительных блоков фрэймворка `LangChain`. Они представляют собой просто цепочку компонентов, которые будут выполнены в определённом порядке. <br>\n",
    "\n",
    "*Официальным определением цепочек является следующее:* <br>\n",
    "Цепочка состоит из звеньев, которые могут быть как примитивами, так и другими цепочками. Примитивами могут быть либо промпты, LLM, utils, либо другие цепочки. Таким образом, цепочка — это, по сути, конвейер, который обрабатывает входные данные, используя определенную комбинацию примитивов. Интуитивно это можно рассматривать как «шаг», который выполняет определенный набор операций над входными данными и возвращает результат. Это может быть что угодно: от прохождения через LLM на основе промпта до применения Python-функции к тексту."
   ]
  },
  {
   "cell_type": "markdown",
   "id": "d6a31bbb-af80-4b0b-9baa-dd3f714d85e2",
   "metadata": {},
   "source": [
    "Цепочки делятся на несколько основных типов: \n",
    "* `Generic chains` - общего назначения\n",
    "* `Utility chains` - выполняющие конкретную функцию (например, вычислять математические выражения)\n",
    "* `Combine Documents chains` - цепочки для работы с документами <br>\n",
    "и другие.\n",
    "\n",
    "В этом ноутбуке остановимся на первых двух типах, третий специфический тип мы рассмотрим позднее."
   ]
  },
  {
   "cell_type": "markdown",
   "id": "75797bf8-2c2b-40fb-bcbd-4bf840c2e837",
   "metadata": {
    "tags": []
   },
   "source": [
    "# <center> 💊 Generic Chains - цепочки общего назначения </center> "
   ]
  },
  {
   "cell_type": "markdown",
   "id": "e233b91b-aba1-42b2-ac3d-9f4702806965",
   "metadata": {},
   "source": [
    "<div class=\"alert alert-info\">\n",
    "    \n",
    "В `LangChain` есть 3 основных типа `Generic Chains`:\n",
    "* `LLM Chain` - базовый тип.\n",
    "* `Transform Chain` - позволяет преобразовывать текст и применять к нему различные функции.\n",
    "* `Sequentional Chain` - позволяет собирать последовательности из нескольких цепочек.\n",
    "\n",
    "*Попробуем рассмотреть их всех на одном примере* 🤪"
   ]
  },
  {
   "cell_type": "markdown",
   "id": "42086c1e-5864-46ba-a7f8-ae246f5f722c",
   "metadata": {},
   "source": [
    "## LLMChain 🔗\n",
    "\n",
    "Самой простой из этих цепочек является `LLMChain`. С ней мы уже знакомились в предыдущих уроках."
   ]
  },
  {
   "cell_type": "code",
   "execution_count": 81,
   "id": "0a0dc993-6239-4b27-99b4-b752fb708538",
   "metadata": {
    "tags": []
   },
   "outputs": [],
   "source": [
    "import os\n",
    "from getpass import getpass\n",
    "import warnings\n",
    "warnings.filterwarnings('ignore')"
   ]
  },
  {
   "cell_type": "code",
   "execution_count": 82,
   "id": "9febfbad-5120-488c-ac89-2ea5d8c9339a",
   "metadata": {
    "tags": []
   },
   "outputs": [],
   "source": [
    "#!pip install langchain openai tiktoken -q"
   ]
  },
  {
   "cell_type": "code",
   "execution_count": 83,
   "id": "78277539-0f1e-44b6-a745-c23e7ec0f2e5",
   "metadata": {
    "tags": []
   },
   "outputs": [],
   "source": [
    "# Для работы в колабе загрузите наш скрипт для использования ChatGPT на сервере курса!\n",
    "#!wget https://raw.githubusercontent.com/a-milenkin/LLM_practical_course/main/notebooks/utils.py"
   ]
  },
  {
   "cell_type": "code",
   "execution_count": 84,
   "id": "ccd3083b-a534-4f4c-a008-d4eb822210ab",
   "metadata": {
    "tags": []
   },
   "outputs": [],
   "source": [
    "# # Если используете ключ от OpenAI, запустите эту ячейку\n",
    "# from langchain.chat_models import ChatOpenAI\n",
    "\n",
    "# # os.environ['OPENAI_API_KEY'] = \"Введите ваш OpenAI API ключ\"\n",
    "# os.environ['OPENAI_API_KEY'] = getpass(prompt='Введите ваш OpenAI API ключ')\n",
    "\n",
    "# # инициализируем языковую модель\n",
    "# llm = ChatOpenAI(temperature=0.0)"
   ]
  },
  {
   "cell_type": "code",
   "execution_count": 85,
   "id": "bd76f574-b8e5-4820-96a4-972fc5ac25ad",
   "metadata": {
    "tags": []
   },
   "outputs": [
    {
     "name": "stdin",
     "output_type": "stream",
     "text": [
      "Введите ваш OpenAI API ключ ········\n"
     ]
    }
   ],
   "source": [
    "# Если используете ключ из курса, запустите эту ячейку\n",
    "from utils import ChatOpenAI\n",
    "\n",
    "\n",
    "#course_api_key= \"Введите ваш OpenAI API ключ\"\n",
    "course_api_key = getpass(prompt='Введите ваш OpenAI API ключ')\n",
    "\n",
    "# инициализируем языковую модель\n",
    "llm = ChatOpenAI(temperature=0.0, course_api_key=course_api_key)"
   ]
  },
  {
   "cell_type": "markdown",
   "id": "980bda3e-1824-4302-a35c-76a56e9b29da",
   "metadata": {},
   "source": [
    "<div class=\"alert alert-info\">\n",
    "Создадим цепочку для переписывания текста в различных стилях."
   ]
  },
  {
   "cell_type": "code",
   "execution_count": 86,
   "id": "e236f8ed",
   "metadata": {
    "tags": []
   },
   "outputs": [],
   "source": [
    "from langchain.prompts import PromptTemplate\n",
    "from langchain.chains import LLMChain\n",
    "\n",
    "# создадим шаблон и промпт\n",
    "template = ''' Перепиши этот текcт: {output_text}\n",
    "В стиле {style}.\n",
    "Результат:'''\n",
    "\n",
    "prompt = PromptTemplate(input_variables=['output_text', 'style'], template=template) \n",
    "\n",
    "# создаём цепочку\n",
    "style_changer_chain = LLMChain(llm=llm, prompt=prompt, output_key='final_output')"
   ]
  },
  {
   "cell_type": "code",
   "execution_count": 88,
   "id": "f8ff4518",
   "metadata": {
    "tags": []
   },
   "outputs": [
    {
     "data": {
      "text/plain": [
       "'Привечаемъ въ курсъ по тюнингу языковыхъ моделей! \\nТутъ научимъ васъ, какъ бы измѣнити модельки з еще болѣе вѣличественными и растолковать ихъ потенциалъ до максимума. \\nДадимъ вамъ совѣти по самымъ прямъновременийнымъ способамъ обучения и управления языка, \\nа тождѣ научимъ васъ практическимъ навыкамъ для издѣкованія трудовыхъ задачъ в обработкѣ нежурная языка.'"
      ]
     },
     "execution_count": 88,
     "metadata": {},
     "output_type": "execute_result"
    }
   ],
   "source": [
    "text = '''Приветствуем на курсе по тюнингу языковых моделей! \n",
    "Тут мы учим, как сделать модельки еще круче и раскрыть их потенциал до максимума. \n",
    "Мы дадим вам советы по самым свежим методам обучения и настройки языковых моделей, \n",
    "а также научим практическим навыкам для решения сложных задач в обработке естественного языка.'''\n",
    "style = 'Роман 18 века'\n",
    "\n",
    "style_changer_chain.run({'output_text': text, 'style': style})"
   ]
  },
  {
   "cell_type": "markdown",
   "id": "c0e32fc4-fe9c-4273-99fd-cb0496844952",
   "metadata": {},
   "source": [
    "Видим, что цепочка с моделью неплохо справилась с задачей."
   ]
  },
  {
   "cell_type": "markdown",
   "id": "aa3ce9a8",
   "metadata": {},
   "source": [
    "## <center> TransformChain 🤖"
   ]
  },
  {
   "cell_type": "markdown",
   "id": "384023ea-b558-44f6-a110-c6113d53ef12",
   "metadata": {},
   "source": [
    "<div class=\"alert alert-info\">\n",
    "    \n",
    "Теперь давайте представим, что мы получаем откуда-то сырой необработанный текст, который содержит пустые строки и много ненужных пробелов. Как вы помните, нам приходится считать количество израсходованных токенов, и не хочется их дополнительно тратить на ненужные лишние символы. К тому же такой текст выглядит неопрятно. <br>\n",
    "Давайте создадим цепочку, которая будет очищать поданный в неё текст от ненужных символов. <br>\n",
    "В этом нам поможет `Transform Chain`.\n"
   ]
  },
  {
   "cell_type": "markdown",
   "id": "913626f1-54ac-43af-bb73-d1fb98814736",
   "metadata": {},
   "source": [
    "Для начала создадим функцию, которая будет убирать лишние пробелы и строки в исходном тексте."
   ]
  },
  {
   "cell_type": "code",
   "execution_count": 15,
   "id": "f1a569d9-6325-4420-aba6-cfaefba7c920",
   "metadata": {
    "tags": []
   },
   "outputs": [],
   "source": [
    "import re\n",
    "\n",
    "def del_spaces(inputs: dict) -> dict:\n",
    "    text = inputs[\"text\"]\n",
    "    \n",
    "    # заменяем пустые строки и дополнительные пробелы на один, используя регулярные выражения\n",
    "    text = re.sub(r'(\\r\\n|\\r|\\n){2,}', r'\\n', text)\n",
    "    text = re.sub(r'[ \\t]+', ' ', text)\n",
    "\n",
    "    return {\"output_text\": text}"
   ]
  },
  {
   "cell_type": "code",
   "execution_count": 33,
   "id": "bce9d951-5196-49e7-b831-b115c43085be",
   "metadata": {
    "tags": []
   },
   "outputs": [],
   "source": [
    "# создаём преобразующую цепочку\n",
    "from langchain.chains import TransformChain\n",
    "\n",
    "text_clean_chain = TransformChain(input_variables=[\"text\"], output_variables=[\"output_text\"], transform=del_spaces)"
   ]
  },
  {
   "cell_type": "markdown",
   "id": "d8bc9026-4dfa-4dc8-bf50-90858d74b0d8",
   "metadata": {},
   "source": [
    "<div class=\"alert alert-info\">\n",
    "    \n",
    "**Обратите внимание**, что при создании этой цепочки, мы не подаём llm как аргумент. Можно подумать, что отсутствие LLM делает такую цепочку более слабой по сравнению с другими, но далее мы увидим, что комбинируя её с другими цепочками, можно добиться хороших результатов и сэкономить токены.<br>\n",
    "Посмотрим как она работает:"
   ]
  },
  {
   "cell_type": "code",
   "execution_count": 19,
   "id": "9086596d-5ba4-4615-aa6d-dc19560bfb33",
   "metadata": {
    "tags": []
   },
   "outputs": [],
   "source": [
    "# Возьмём наш предыдущий текст и \"загрязним его\"\n",
    "dirty_text = '''Приветствуем на курсе по        тюнингу языковых моделей     ! \n",
    "\n",
    "Тут мы учим, как сделать модельки еще круче и раскрыть их потенциал до максимума. \n",
    "Мы дадим вам советы по   самым свежим методам  обучения и настройки языковых                    моделей,\n",
    "\n",
    "а также научим практическим навыкам для                     решения сложных задач в обработке естественного языка.'''"
   ]
  },
  {
   "cell_type": "code",
   "execution_count": 20,
   "id": "ee7b5fef-927f-4a3e-8736-676e162654e9",
   "metadata": {
    "tags": []
   },
   "outputs": [
    {
     "data": {
      "text/plain": [
       "'Приветствуем на курсе по тюнингу языковых моделей ! \\nТут мы учим, как сделать модельки еще круче и раскрыть их потенциал до максимума. \\nМы дадим вам советы по самым свежим методам обучения и настройки языковых моделей,\\nа также научим практическим навыкам для решения сложных задач в обработке естественного языка.'"
      ]
     },
     "execution_count": 20,
     "metadata": {},
     "output_type": "execute_result"
    }
   ],
   "source": [
    "# Запустим, и видим, что цепочка задачу выполнила\n",
    "text_clean_chain.run(dirty_text)"
   ]
  },
  {
   "cell_type": "markdown",
   "id": "1ce23e80-2a70-4e70-8710-bfc6a6e1fdcb",
   "metadata": {},
   "source": [
    "<div class=\"alert alert-info\">\n",
    "    \n",
    "Как вы уже наверное догадались (по названиям входных и выходных переменных), мы собираемся подать выход из `Transform Chain` в `LLMChain`. Чтобы их объединить и использовать как одну интегрированную цепочку, воспользуемся `Sequential Chain`."
   ]
  },
  {
   "cell_type": "markdown",
   "id": "0ed77050-490e-402c-8a6e-deeb9980626c",
   "metadata": {
    "tags": []
   },
   "source": [
    "## <center>  SequentialChain 🔗➕⛓ - последовательные цепочки\n",
    "\n",
    "<div class=\"alert alert-info\">\n",
    "    \n",
    "Два основных типа `Sequential Chain`:\n",
    "* `SimpleSequentialChain`: простейшая форма последовательной цепочки, где каждый шаг имеет один вход/выход, а выход одного шага является входом следующего.\n",
    "* `SequentialChain`: более общая форма последовательной цепочки, допускающая несколько входов/выходов.\n",
    "\n",
    "Воспользуемся вторым вариантом:"
   ]
  },
  {
   "cell_type": "code",
   "execution_count": 29,
   "id": "46eea19c",
   "metadata": {
    "tags": []
   },
   "outputs": [],
   "source": [
    "from langchain.chains import SequentialChain"
   ]
  },
  {
   "cell_type": "code",
   "execution_count": 42,
   "id": "5eb089cc-fcd3-48f3-9e74-e612de423517",
   "metadata": {
    "tags": []
   },
   "outputs": [],
   "source": [
    "sequential_chain = SequentialChain(chains=[text_clean_chain, style_changer_chain],\n",
    "                                   input_variables=['text', 'style'],\n",
    "                                   output_variables=['final_output'])"
   ]
  },
  {
   "cell_type": "code",
   "execution_count": 45,
   "id": "d6bb331c-8ee3-465d-a793-0632db4d843b",
   "metadata": {
    "tags": []
   },
   "outputs": [
    {
     "name": "stdout",
     "output_type": "stream",
     "text": [
      "Привет, друзья, на курсе мы вас ждем,\n",
      "Тюнинг языковых моделей – это наш домен.\n",
      "Нашей целью станет модели улучшить,\n",
      "Их потенциал раскрыть и вдохновить.\n",
      "\n",
      "Свежие методы обучения мы расскажем,\n",
      "И настройку языковых моделей научим.\n",
      "Практические навыки дадим вам тоже,\n",
      "Для решения сложных задач успешно.\n",
      "\n",
      "Приготовьтесь, вас ждет удивительный путь,\n",
      "Где обработка естественного языка в руках у вас – в шутку.\n",
      "Будем стилем Рэпа искренне вдохновлять,\n",
      "И вместе этот курс максимум раскрыть.\n"
     ]
    }
   ],
   "source": [
    "style = 'Rap'\n",
    "print(sequential_chain.run({'text': dirty_text, 'style': style}))"
   ]
  },
  {
   "cell_type": "markdown",
   "id": "7e1cea31-b913-401c-9757-ce3024f48c5d",
   "metadata": {},
   "source": [
    "Так же к `Generic Chains` можно отнести семейство `Router Chains`,  создающее цепочки, которые динамически выбирают наиболее подходящую следующую цепь в зависимости от входных данных."
   ]
  },
  {
   "cell_type": "markdown",
   "id": "10a65406-bcdf-4ca3-8e41-628032c3a143",
   "metadata": {},
   "source": [
    "## <center> Router Chain 🈯️ ➡️ 🇯🇵 - определитель тем \n",
    "\n",
    "<div class=\"alert alert-info\">\n",
    "    \n",
    "Например, если у вас есть две цепочки с LLM хорошо натренированными под разные задачи, одна хорошо разбирается в цветах, а другая в футболе. То когда вы зададите вопрос, `Router Chain` может определить тему и отправить запрос в соответствующую цепочку. <br>\n",
    "Рассмотрим на примере:"
   ]
  },
  {
   "cell_type": "code",
   "execution_count": 46,
   "id": "b233e117-16ff-4336-bd24-a8cdda3bd507",
   "metadata": {},
   "outputs": [],
   "source": [
    "from langchain.chains.router import MultiPromptChain\n",
    "from langchain.chains.router.llm_router import LLMRouterChain, RouterOutputParser\n",
    "from langchain.chains.router.multi_prompt_prompt import MULTI_PROMPT_ROUTER_TEMPLATE\n",
    "from langchain.chains import ConversationChain\n",
    "from langchain.chains.llm import LLMChain\n",
    "from langchain.prompts import PromptTemplate"
   ]
  },
  {
   "cell_type": "markdown",
   "id": "5d0bcf48-1a51-4302-ab2f-355c12d1986a",
   "metadata": {},
   "source": [
    "Так как у нас нет 2-х разных предобученых моделей под конкретную задачу, попросим ChatGPT отвечать нам, как-будто она специалист в 2 различных областях, с помощью промптов. "
   ]
  },
  {
   "cell_type": "code",
   "execution_count": 63,
   "id": "b5e61868-f148-4fe3-9e22-bfe494ca905b",
   "metadata": {
    "tags": []
   },
   "outputs": [],
   "source": [
    "florist_template = \"\"\"Ты очень опытный флорист и ботаник, знаешь всё о цветах, растениях.\n",
    "Тебе нравится отвечать на вопросы о том, как выбирать и ухаживать за растениями. \n",
    "Ты отвечаешь так, что всё становится ясно даже начинающему цветоводу. \n",
    "Вот вопрос:\n",
    "{input}\"\"\"\n",
    "\n",
    "football_template = \"\"\"Ты спортивный журналист с большим опытом, твоя основная специализация футбол.\n",
    "Ты знаешь всё о футбольных командах и игроках, и очень любишь отвечать на вопросы о футболе, но кратко и по делу.\n",
    "Вот вопрос:\n",
    "{input}\"\"\""
   ]
  },
  {
   "cell_type": "code",
   "execution_count": 64,
   "id": "8c71a44b-7b08-4eaf-ad9f-0e3c2c4a9b56",
   "metadata": {
    "tags": []
   },
   "outputs": [],
   "source": [
    "# Создаём словари с описанием моделей\n",
    "prompt_infos = [\n",
    "    {\n",
    "        \"name\": \"florist\",\n",
    "        \"description\": \"Отлично отвечает на вопросы о цветах и растениях\",\n",
    "        \"prompt_template\": florist_template,\n",
    "    },\n",
    "    {\n",
    "        \"name\": \"football\",\n",
    "        \"description\": \"Хорошо отвечает на вопросы о футболе\",\n",
    "        \"prompt_template\": football_template,\n",
    "    },\n",
    "]"
   ]
  },
  {
   "cell_type": "code",
   "execution_count": 65,
   "id": "60177c07-dfcc-41be-a604-a8b2c172e70f",
   "metadata": {
    "tags": []
   },
   "outputs": [],
   "source": [
    "# Создаём в цикле 2 LLMChain под разные задачи\n",
    "destination_chains = {}\n",
    "for p_info in prompt_infos:\n",
    "    name = p_info[\"name\"]\n",
    "    prompt_template = p_info[\"prompt_template\"]\n",
    "    prompt = PromptTemplate(template=prompt_template, input_variables=[\"input\"])\n",
    "    chain = LLMChain(llm=llm, prompt=prompt)\n",
    "    destination_chains[name] = chain\n",
    "\n",
    "# Создаём дефолтную цепочку, которая будет поддерживать диалог\n",
    "default_chain = ConversationChain(llm=llm, output_key=\"text\")"
   ]
  },
  {
   "cell_type": "markdown",
   "id": "8081478e-00dd-4e5a-b32a-b2dea938b5a1",
   "metadata": {},
   "source": [
    "Чтобы `Router Chain` могла работать ей нужен специальный `router promnt` на основе специального шаблона `MULTI_PROMPT_ROUTER_TEMPLATE`. <br>\n",
    "Посмотрим на него:"
   ]
  },
  {
   "cell_type": "code",
   "execution_count": 66,
   "id": "690303e4-fe96-4bc8-b571-f931dd229084",
   "metadata": {
    "tags": []
   },
   "outputs": [
    {
     "name": "stdout",
     "output_type": "stream",
     "text": [
      "Given a raw text input to a language model select the model prompt best suited for the input. You will be given the names of the available prompts and a description of what the prompt is best suited for. You may also revise the original input if you think that revising it will ultimately lead to a better response from the language model.\n",
      "\n",
      "<< FORMATTING >>\n",
      "Return a markdown code snippet with a JSON object formatted to look like:\n",
      "```json\n",
      "{{{{\n",
      "    \"destination\": string \\ name of the prompt to use or \"DEFAULT\"\n",
      "    \"next_inputs\": string \\ a potentially modified version of the original input\n",
      "}}}}\n",
      "```\n",
      "\n",
      "REMEMBER: \"destination\" MUST be one of the candidate prompt names specified below OR it can be \"DEFAULT\" if the input is not well suited for any of the candidate prompts.\n",
      "REMEMBER: \"next_inputs\" can just be the original input if you don't think any modifications are needed.\n",
      "\n",
      "<< CANDIDATE PROMPTS >>\n",
      "{destinations}\n",
      "\n",
      "<< INPUT >>\n",
      "{{input}}\n",
      "\n",
      "<< OUTPUT (must include ```json at the start of the response) >>\n",
      "<< OUTPUT (must end with ```) >>\n",
      "\n"
     ]
    }
   ],
   "source": [
    "print(MULTI_PROMPT_ROUTER_TEMPLATE)"
   ]
  },
  {
   "cell_type": "code",
   "execution_count": 67,
   "id": "a538e510-5ea2-46ca-a2bd-2d695abd7f8e",
   "metadata": {
    "tags": []
   },
   "outputs": [],
   "source": [
    "# готовим описание наших моделей для специального промпта\n",
    "destinations = [f\"{p['name']}: {p['description']}\" for p in prompt_infos]\n",
    "destinations_str = \"\\n\".join(destinations)\n",
    "\n",
    "# создаём шаблон и промпт\n",
    "router_template = MULTI_PROMPT_ROUTER_TEMPLATE.format(destinations=destinations_str)\n",
    "router_prompt = PromptTemplate(\n",
    "    template=router_template,\n",
    "    input_variables=[\"input\"],\n",
    "    output_parser=RouterOutputParser(),\n",
    ")\n",
    "# создаём RouterChain\n",
    "router_chain = LLMRouterChain.from_llm(llm, router_prompt)"
   ]
  },
  {
   "cell_type": "code",
   "execution_count": 68,
   "id": "f0ad54cc-fb71-451e-a2c2-3fe0a8de534c",
   "metadata": {
    "tags": []
   },
   "outputs": [],
   "source": [
    "#print(router_template)"
   ]
  },
  {
   "cell_type": "markdown",
   "id": "a74f0444-e013-4c6c-9e12-c7af38a27f84",
   "metadata": {},
   "source": [
    "И теперь, чтобы магия заработала, объединяем все созданные цепочки в одну `MultiPromptChain`."
   ]
  },
  {
   "cell_type": "code",
   "execution_count": 69,
   "id": "519c8ea7-ea36-4912-b877-df1841e50520",
   "metadata": {
    "tags": []
   },
   "outputs": [],
   "source": [
    "chain = MultiPromptChain(\n",
    "    router_chain=router_chain,\n",
    "    destination_chains=destination_chains,\n",
    "    default_chain=default_chain,\n",
    "    verbose=True,\n",
    ")"
   ]
  },
  {
   "cell_type": "code",
   "execution_count": 70,
   "id": "35395e14-027d-4356-b114-305a49e9f0c1",
   "metadata": {
    "tags": []
   },
   "outputs": [
    {
     "name": "stdout",
     "output_type": "stream",
     "text": [
      "\n",
      "\n",
      "\u001b[1m> Entering new MultiPromptChain chain...\u001b[0m\n",
      "football: {'input': 'Какие цвета у Барселоны?'}\n",
      "\u001b[1m> Finished chain.\u001b[0m\n",
      "Цвета Барселоны являются сине-гранатовыми, а точнее, клуб использует гранатовый (темно-красный) цвет в сочетании с синим.\n"
     ]
    }
   ],
   "source": [
    "print(chain.run(\"Какие цвета у Барселоны?\"))"
   ]
  },
  {
   "cell_type": "code",
   "execution_count": 62,
   "id": "ee8148af-631d-4d0b-a859-fb3035a3d411",
   "metadata": {
    "tags": []
   },
   "outputs": [
    {
     "name": "stdout",
     "output_type": "stream",
     "text": [
      "\n",
      "\n",
      "\u001b[1m> Entering new MultiPromptChain chain...\u001b[0m\n",
      "florist: {'input': 'Сколько раз в неделю поливать кактус?'}\n",
      "\u001b[1m> Finished chain.\u001b[0m\n",
      "Кактусы имеют особенности водопотребления, и частота полива может варьироваться в зависимости от условий окружающей среды и времени года. В целом, для большинства видов кактусов рекомендуется поливать раз в две-три недели. Однако, важно учитывать такие факторы, как тип горшка и почва, размер и возраст растения, а также количество света и температура в помещении. Регулярно проверяйте влажность почвы с помощью влагомера или просто проводя палец по поверхности грунта. Если верхний слой почвы высох, это сигнал для полива. Однако, помните, что переувлажнение может привести к гниению корней, поэтому важно не залить растение. Вывод: поливая кактус, следите за индивидуальными потребностями растения и адаптируйте частоту полива в соответствии с ними.\n"
     ]
    }
   ],
   "source": [
    "print(chain.run(\"Сколько раз в неделю поливать кактус?\"))"
   ]
  },
  {
   "cell_type": "code",
   "execution_count": 71,
   "id": "18354604-8a77-4b8c-b180-0743085e49fa",
   "metadata": {
    "tags": []
   },
   "outputs": [
    {
     "name": "stdout",
     "output_type": "stream",
     "text": [
      "\n",
      "\n",
      "\u001b[1m> Entering new MultiPromptChain chain...\u001b[0m\n",
      "football: {'input': 'Какие цветы у Барселоны?'}\n",
      "\u001b[1m> Finished chain.\u001b[0m\n",
      "Официальные цвета Футбольного клуба Барселона - гранатовый и голубой.\n"
     ]
    }
   ],
   "source": [
    "print(chain.run(\"Какие цветы у Барселоны?\"))"
   ]
  },
  {
   "cell_type": "markdown",
   "id": "cef70f04-e193-4117-9b9e-eb117714dcc7",
   "metadata": {},
   "source": [
    "# <center> 🛠 Utility Chains 🪝 </center>\n"
   ]
  },
  {
   "cell_type": "markdown",
   "id": "a3eefb1f-577c-448e-bac3-36b7892a311f",
   "metadata": {},
   "source": [
    "<div class=\"alert alert-info\">\n",
    "    \n",
    "Судя по названию, `Utility Chains` выполняют какую-либо утилитарную функцию: математические расчеты, отправляют запросы в интернет и работают с ответом запроса, выполняют bash-скрипты и.т.п. <br>\n",
    "Их достаточно много разных, рассмотрим пример с математической цепочкой:"
   ]
  },
  {
   "cell_type": "code",
   "execution_count": 72,
   "id": "798daceb-fca7-4da2-8d84-7f014fc067d3",
   "metadata": {
    "tags": []
   },
   "outputs": [],
   "source": [
    "from langchain.chains import LLMMathChain\n",
    "\n",
    "math_chain = LLMMathChain(llm=llm, verbose=True)"
   ]
  },
  {
   "cell_type": "code",
   "execution_count": 74,
   "id": "9cc472dd-6ba6-443a-b154-1b4d68e9aebc",
   "metadata": {
    "tags": []
   },
   "outputs": [
    {
     "name": "stdout",
     "output_type": "stream",
     "text": [
      "\n",
      "\n",
      "\u001b[1m> Entering new LLMMathChain chain...\u001b[0m\n",
      "Сколько будет 25 возвести в степень 0.25\u001b[32;1m\u001b[1;3m```text\n",
      "25**0.25\n",
      "```\n",
      "...numexpr.evaluate(\"25**0.25\")...\n",
      "\u001b[0m\n",
      "Answer: \u001b[33;1m\u001b[1;3m2.23606797749979\u001b[0m\n",
      "\u001b[1m> Finished chain.\u001b[0m\n",
      "Answer: 2.23606797749979\n"
     ]
    }
   ],
   "source": [
    "print(math_chain.run('Сколько будет 25 возвести в степень 0.25'))"
   ]
  },
  {
   "cell_type": "markdown",
   "id": "53b50882-8e6e-41a3-b065-8619f588e656",
   "metadata": {},
   "source": [
    "<div class=\"alert alert-info\">\n",
    "    \n",
    "Видим, цепочка получила вопрос на естественном языке и отправила его в модель. LLM вернул код Python, который скомпилировала цепочка, чтобы дать нам ответ. <br>\n",
    "Возникает вопрос: Как LLM узнала, что мы хотим, чтобы он возвращал код Python? <br>\n",
    "Ответ мы можем обнаружить, если посмотрим на промпт этой цепочки:"
   ]
  },
  {
   "cell_type": "code",
   "execution_count": 76,
   "id": "1e43a6a3-c1e5-4bd9-8cc0-3f9036cceebd",
   "metadata": {
    "tags": []
   },
   "outputs": [
    {
     "name": "stdout",
     "output_type": "stream",
     "text": [
      "Translate a math problem into a expression that can be executed using Python's numexpr library. Use the output of running this code to answer the question.\n",
      "\n",
      "Question: ${{Question with math problem.}}\n",
      "```text\n",
      "${{single line mathematical expression that solves the problem}}\n",
      "```\n",
      "...numexpr.evaluate(text)...\n",
      "```output\n",
      "${{Output of running the code}}\n",
      "```\n",
      "Answer: ${{Answer}}\n",
      "\n",
      "Begin.\n",
      "\n",
      "Question: What is 37593 * 67?\n",
      "```text\n",
      "37593 * 67\n",
      "```\n",
      "...numexpr.evaluate(\"37593 * 67\")...\n",
      "```output\n",
      "2518731\n",
      "```\n",
      "Answer: 2518731\n",
      "\n",
      "Question: 37593^(1/5)\n",
      "```text\n",
      "37593**(1/5)\n",
      "```\n",
      "...numexpr.evaluate(\"37593**(1/5)\")...\n",
      "```output\n",
      "8.222831614237718\n",
      "```\n",
      "Answer: 8.222831614237718\n",
      "\n",
      "Question: {question}\n",
      "\n"
     ]
    }
   ],
   "source": [
    "print(math_chain.prompt.template)"
   ]
  },
  {
   "cell_type": "markdown",
   "id": "3b0c8a27-e28b-4178-abb6-7ca48f28b0f1",
   "metadata": {},
   "source": [
    "<div class=\"alert alert-info\">\n",
    "    \n",
    "Мы буквально говорим LLM, что для решения сложных математических задач он не должен пытаться решать математические задачи самостоятельно, а вместо этого должен распечатать код Python, который выполнит расчет математической задачи. Вероятно, если бы мы просто отправили запрос без какого-либо контекста, LLM попыталась бы (и не смогла) вычислить это самостоятельно. <br>\n",
    "Это можно проверить... давайте попробуем! 🧐"
   ]
  },
  {
   "cell_type": "code",
   "execution_count": 77,
   "id": "563a413c-06c9-4ae0-9c48-3aa2745cb6fb",
   "metadata": {
    "tags": []
   },
   "outputs": [
    {
     "name": "stdout",
     "output_type": "stream",
     "text": [
      "25 возвести в степень 0.25 равняется приблизительно 1.6818.\n"
     ]
    }
   ],
   "source": [
    "prompt = PromptTemplate(input_variables=['question'], template='{question}')\n",
    "llm_chain = LLMChain(prompt=prompt, llm=llm)\n",
    "\n",
    "print(llm_chain.run('Сколько будет 25 возвести в степень 0.25'))"
   ]
  },
  {
   "cell_type": "markdown",
   "id": "072beff8-a6ee-4a60-b5bb-9f06526b2474",
   "metadata": {},
   "source": [
    "Неверный ответ! В этом и заключается сила промптинга. <br>\n",
    "Вывод: разумно используя промптинг, мы можем заставить LLM избегать распространенных ошибок, явно программируя его на определенное поведение."
   ]
  },
  {
   "cell_type": "markdown",
   "id": "c1979793-8fd8-4ce7-8fdc-9dc7dd0a35cf",
   "metadata": {},
   "source": [
    "# <center id=\"part6\"> 🧸 Выводы и заключения ✅: <br>\n",
    "\n",
    "<div class=\"alert alert-info\">\n",
    "    \n",
    "Во всех, приведенных выше, примерах вы могли заметить, что цепочка в своей основе имеет тот или иной специально написанный промпт, т.е. по сути можно было бы обходиться без них, проектируя новый сложный промпт под каждую задачу. Но согласитесь, что с помощью цепочек `LangChain` это делать гораздо проще и удобнее. Особенно, если мы говорим про крупные сервисы. Т.е. цепочки позволяют нам больше сосредоточиться на продумывании логики и функционала сервиса, а не на дизайне промптов."
   ]
  }
 ],
 "metadata": {
  "kernelspec": {
   "display_name": "Python 3 (ipykernel)",
   "language": "python",
   "name": "python3"
  },
  "language_info": {
   "codemirror_mode": {
    "name": "ipython",
    "version": 3
   },
   "file_extension": ".py",
   "mimetype": "text/x-python",
   "name": "python",
   "nbconvert_exporter": "python",
   "pygments_lexer": "ipython3",
   "version": "3.9.17"
  }
 },
 "nbformat": 4,
 "nbformat_minor": 5
}
